{
  "nbformat": 4,
  "nbformat_minor": 0,
  "metadata": {
    "colab": {
      "provenance": []
    },
    "kernelspec": {
      "name": "python3",
      "display_name": "Python 3"
    },
    "language_info": {
      "name": "python"
    }
  },
  "cells": [
    {
      "cell_type": "markdown",
      "source": [
        "# Content-based Filtering Model"
      ],
      "metadata": {
        "id": "3zcaCg9Q-dlP"
      }
    },
    {
      "cell_type": "code",
      "execution_count": 112,
      "metadata": {
        "id": "lTSivqgt1Rfh"
      },
      "outputs": [],
      "source": [
        "import csv\n",
        "import random\n",
        "import tensorflow as tf"
      ]
    },
    {
      "cell_type": "markdown",
      "source": [
        "Create a list of brand choice for one hot encoding."
      ],
      "metadata": {
        "id": "ibsRfIGuAwug"
      }
    },
    {
      "cell_type": "code",
      "source": [
        "user_dict = {}\n",
        "brand_choice_list = ['Oppo', 'Asus', 'Infinix', 'Samsung', 'Vivo', 'Huawei', 'Apple', 'Realme', 'Xiaomi', 'Poco', 'lainnya/tidak ada']"
      ],
      "metadata": {
        "id": "VXZwCmzc4YfB"
      },
      "execution_count": 113,
      "outputs": []
    },
    {
      "cell_type": "markdown",
      "source": [
        "Access user dataset from csv file."
      ],
      "metadata": {
        "id": "phxDic6Z-rbj"
      }
    },
    {
      "cell_type": "code",
      "source": [
        "with open('user_dataset_revised.csv', 'r') as file:\n",
        "  user_dict['user'] = []\n",
        "  user_dict['user_fav'] = []\n",
        "  user_index = []\n",
        "  csvFile = csv.reader(file)\n",
        "  for i,line in enumerate(csvFile):\n",
        "    if '0' in line:\n",
        "      continue\n",
        "    else:\n",
        "      user_index.append(i)\n",
        "      user_dict[f'user'].append([int(line[0]), int(line[1]), int(line[2]), int(line[3]), int(line[4]), int(line[5])])\n",
        "      user_dict[f'user_fav'].append(brand_choice_list.index(line[7]))"
      ],
      "metadata": {
        "id": "bkCkzwffEpBb"
      },
      "execution_count": 114,
      "outputs": []
    },
    {
      "cell_type": "markdown",
      "source": [
        "Convert user features to tensors and one hot encode one of user features, and then concatenate them."
      ],
      "metadata": {
        "id": "leXTOXiZ-ykH"
      }
    },
    {
      "cell_type": "code",
      "source": [
        "user_feature1_6 = tf.cast(tf.convert_to_tensor(user_dict['user']), tf.float32)\n",
        "user_feature7 = tf.one_hot(user_dict['user_fav'], len(brand_choice_list))\n",
        "user = tf.concat([user_feature1_6, user_feature7], 1)"
      ],
      "metadata": {
        "id": "SYybH4qnE__V"
      },
      "execution_count": 115,
      "outputs": []
    },
    {
      "cell_type": "markdown",
      "source": [
        "User features are performance, camera, battery, software, RAM, storage, and favorite brand."
      ],
      "metadata": {
        "id": "tTBfDEmPAjk9"
      }
    },
    {
      "cell_type": "code",
      "source": [
        "user[0]"
      ],
      "metadata": {
        "colab": {
          "base_uri": "https://localhost:8080/"
        },
        "id": "84AknkZKWLed",
        "outputId": "9e429212-7b86-47e1-e329-8b61a4cfd138"
      },
      "execution_count": 116,
      "outputs": [
        {
          "output_type": "execute_result",
          "data": {
            "text/plain": [
              "<tf.Tensor: shape=(17,), dtype=float32, numpy=\n",
              "array([1., 1., 5., 1., 3., 1., 0., 0., 0., 0., 1., 0., 0., 0., 0., 0., 0.],\n",
              "      dtype=float32)>"
            ]
          },
          "metadata": {},
          "execution_count": 116
        }
      ]
    },
    {
      "cell_type": "markdown",
      "source": [
        "Create a brand list and os list for one hot encoding."
      ],
      "metadata": {
        "id": "2QCM4HGmA5fJ"
      }
    },
    {
      "cell_type": "code",
      "source": [
        "phone_dict = {}\n",
        "brand_list = ['Oppo', 'Asus', 'Infinix', 'Samsung', 'Vivo', 'Huawei', 'Apple', 'Realme', 'Xiaomi', 'Poco']\n",
        "os_list = ['iOS', 'EMUI', 'Android']"
      ],
      "metadata": {
        "id": "Ox68dlOJ41TB"
      },
      "execution_count": 117,
      "outputs": []
    },
    {
      "cell_type": "markdown",
      "source": [
        "Access phone dataset from csv file.<br>\n",
        "Preprocess the data,  one hot encode some of the features, normalize some of the features.<br>\n",
        "Then concatenate all the phone data."
      ],
      "metadata": {
        "id": "DKj3MQpG_Dka"
      }
    },
    {
      "cell_type": "code",
      "source": [
        "with open('phone_dataset_cleaned.csv', 'r') as file:\n",
        "  phone_dict = {'phone_brand': [], 'phone_name': [], 'phone_weight': [], 'phone_os': [], 'phone_chipset': [], 'phone_memory': [], 'phone_ram': [], 'phone_camera': [], 'phone_audio_jack': [], 'phone_battery': [], 'phone_charging': [], 'phone_nfc': [], 'phone_price': []}\n",
        "  csvFile = csv.reader(file)\n",
        "  next(csvFile)\n",
        "  for i,line in enumerate(csvFile):\n",
        "    phone_dict['phone_brand'].append(brand_list.index(line[1]))\n",
        "    phone_dict['phone_name'].append(line[2])\n",
        "    phone_dict['phone_weight'].append(float(line[6]))\n",
        "    phone_dict['phone_os'].append(os_list.index('iOS' if line[7].startswith('iOS') else 'EMUI' if line[7].startswith('EMUI') else 'Android'))\n",
        "    phone_dict['phone_chipset'].append(line[8])\n",
        "    phone_dict['phone_memory'].append(float(line[9]))\n",
        "    phone_dict['phone_ram'].append(float(line[10]))\n",
        "    phone_dict['phone_camera'].append([float(line[11]), float(line[12]), float(line[13]), float(line[14])])\n",
        "    phone_dict['phone_audio_jack'].append(1.0 if line[15] == 'TRUE' else 0.0)\n",
        "    phone_dict['phone_battery'].append(float(line[16]))\n",
        "    phone_dict['phone_charging'].append(float(line[17]))\n",
        "    phone_dict['phone_nfc'].append(1.0 if line[19] == 'TRUE' else 0.0)\n",
        "    phone_dict['phone_price'].append(float(line[20]))"
      ],
      "metadata": {
        "id": "RnsoSCDw4396"
      },
      "execution_count": 118,
      "outputs": []
    },
    {
      "cell_type": "code",
      "source": [
        "chipset_list = sorted(set(phone_dict['phone_chipset']))\n",
        "phone_dict['phone_chipset'] = [chipset_list.index(phone) for phone in phone_dict['phone_chipset']]"
      ],
      "metadata": {
        "id": "aKMsXm2EZtUa"
      },
      "execution_count": 119,
      "outputs": []
    },
    {
      "cell_type": "code",
      "source": [
        "phone_brand = tf.one_hot(phone_dict['phone_brand'], len(brand_list))\n",
        "phone_weight = tf.expand_dims(tf.convert_to_tensor(phone_dict['phone_weight']) / max(phone_dict['phone_weight']), 1)\n",
        "phone_os = tf.one_hot(phone_dict['phone_os'], len(os_list))\n",
        "phone_chipset = tf.one_hot(phone_dict['phone_chipset'], len(chipset_list))\n",
        "phone_memory = tf.expand_dims(tf.convert_to_tensor(phone_dict['phone_memory']), 1)  / max(phone_dict['phone_memory'])\n",
        "phone_ram = tf.expand_dims(tf.convert_to_tensor(phone_dict['phone_ram']), 1) / max(phone_dict['phone_ram'])\n",
        "phone_camera = tf.convert_to_tensor(phone_dict['phone_camera'])\n",
        "phone_audio_jack = tf.expand_dims(tf.convert_to_tensor(phone_dict['phone_audio_jack']), 1)\n",
        "phone_battery = tf.expand_dims(tf.convert_to_tensor(phone_dict['phone_battery']), 1) / max(phone_dict['phone_battery'])\n",
        "phone_charging = tf.expand_dims(tf.convert_to_tensor(phone_dict['phone_charging']), 1)\n",
        "phone_nfc = tf.expand_dims(tf.convert_to_tensor(phone_dict['phone_nfc']), 1)\n",
        "phone_price = tf.expand_dims(tf.convert_to_tensor(phone_dict['phone_price']), 1) / max(phone_dict['phone_price'])"
      ],
      "metadata": {
        "id": "cPVRIyYSaiwT"
      },
      "execution_count": 120,
      "outputs": []
    },
    {
      "cell_type": "code",
      "source": [
        "phone = tf.concat([phone_brand, phone_weight, phone_os, phone_chipset, phone_memory, phone_ram, phone_camera, phone_audio_jack, phone_battery, phone_charging, phone_nfc, phone_price], 1)"
      ],
      "metadata": {
        "id": "UWIiW1Gpa6Ga"
      },
      "execution_count": 121,
      "outputs": []
    },
    {
      "cell_type": "markdown",
      "source": [
        "Phone features are brand, weight, os, chipset, memory, RAM, camera 1, camera 2, camera 3, selfie camera, audio jack, battery, charging, nfc, and price."
      ],
      "metadata": {
        "id": "-5XpbFOqBaVR"
      }
    },
    {
      "cell_type": "code",
      "source": [
        "phone[0]"
      ],
      "metadata": {
        "colab": {
          "base_uri": "https://localhost:8080/"
        },
        "id": "ZRLElV0-XBfZ",
        "outputId": "ffb20036-e7b9-477e-c7cc-be6a670cfd0c",
        "collapsed": true
      },
      "execution_count": 11,
      "outputs": [
        {
          "output_type": "execute_result",
          "data": {
            "text/plain": [
              "<tf.Tensor: shape=(75,), dtype=float32, numpy=\n",
              "array([ 1.        ,  0.        ,  0.        ,  0.        ,  0.        ,\n",
              "        0.        ,  0.        ,  0.        ,  0.        ,  0.        ,\n",
              "        0.33643124,  0.        ,  0.        ,  1.        ,  0.        ,\n",
              "        0.        ,  0.        ,  0.        ,  0.        ,  0.        ,\n",
              "        0.        ,  0.        ,  0.        ,  0.        ,  0.        ,\n",
              "        0.        ,  0.        ,  0.        ,  0.        ,  0.        ,\n",
              "        0.        ,  1.        ,  0.        ,  0.        ,  0.        ,\n",
              "        0.        ,  0.        ,  0.        ,  0.        ,  0.        ,\n",
              "        0.        ,  0.        ,  0.        ,  0.        ,  0.        ,\n",
              "        0.        ,  0.        ,  0.        ,  0.        ,  0.        ,\n",
              "        0.        ,  0.        ,  0.        ,  0.        ,  0.        ,\n",
              "        0.        ,  0.        ,  0.        ,  0.        ,  0.        ,\n",
              "        0.        ,  0.        ,  0.        ,  0.        ,  0.5       ,\n",
              "        0.5       , 50.        , 32.        ,  8.        , 32.        ,\n",
              "        1.        ,  0.575     , 80.        ,  1.        ,  0.28972957],\n",
              "      dtype=float32)>"
            ]
          },
          "metadata": {},
          "execution_count": 11
        }
      ]
    },
    {
      "cell_type": "markdown",
      "source": [
        "Create a rating dictionary and a rating list."
      ],
      "metadata": {
        "id": "nbb9mEGHBvxJ"
      }
    },
    {
      "cell_type": "code",
      "source": [
        "rating_dict = {}"
      ],
      "metadata": {
        "id": "I3KdE-uH3UD_"
      },
      "execution_count": 12,
      "outputs": []
    },
    {
      "cell_type": "code",
      "source": [
        "rating = [[0.0 for _ in range(1507)] for _ in range(96)]"
      ],
      "metadata": {
        "id": "ob1FJCnES5wm"
      },
      "execution_count": 13,
      "outputs": []
    },
    {
      "cell_type": "code",
      "source": [
        "rating[0][0]"
      ],
      "metadata": {
        "colab": {
          "base_uri": "https://localhost:8080/"
        },
        "id": "jkqpXN8NTj1W",
        "outputId": "fd5f709d-5320-4825-fb11-05f28fd267eb"
      },
      "execution_count": 14,
      "outputs": [
        {
          "output_type": "execute_result",
          "data": {
            "text/plain": [
              "0.0"
            ]
          },
          "metadata": {},
          "execution_count": 14
        }
      ]
    },
    {
      "cell_type": "markdown",
      "source": [
        "Access rating dataset from csv file and only save the ratings from the users with information."
      ],
      "metadata": {
        "id": "OW-5ovGS_iUi"
      }
    },
    {
      "cell_type": "code",
      "source": [
        "with open('rating_dataset_cleaned.csv', 'r') as file:\n",
        "  csvFile = csv.reader(file)\n",
        "  for i,line in enumerate(csvFile):\n",
        "    for j,r in enumerate(line):\n",
        "      if j in user_index:\n",
        "        rating[i][user_index.index(j)] = float(r)"
      ],
      "metadata": {
        "id": "dyFulwDITHMT"
      },
      "execution_count": 15,
      "outputs": []
    },
    {
      "cell_type": "code",
      "source": [
        "print(rating[0][0])\n",
        "print(rating[4][1])\n",
        "print(rating[9][0])"
      ],
      "metadata": {
        "colab": {
          "base_uri": "https://localhost:8080/"
        },
        "id": "KmpFxMaiTOvZ",
        "outputId": "9e12b318-db19-4486-f9ed-7691aaae58a5"
      },
      "execution_count": 16,
      "outputs": [
        {
          "output_type": "stream",
          "name": "stdout",
          "text": [
            "0.0\n",
            "0.0\n",
            "0.0\n"
          ]
        }
      ]
    },
    {
      "cell_type": "code",
      "source": [
        "phone_data = []\n",
        "user_data = []\n",
        "rating_data = []"
      ],
      "metadata": {
        "id": "GZICugZmZ1LZ"
      },
      "execution_count": 17,
      "outputs": []
    },
    {
      "cell_type": "markdown",
      "source": [
        "Save the phone data and user data for training only for the rated phone."
      ],
      "metadata": {
        "id": "xQfUoDL8_u5g"
      }
    },
    {
      "cell_type": "code",
      "source": [
        "for i,p in enumerate(phone):\n",
        "  for j,u in enumerate(user):\n",
        "    if rating[i][j] > 0:\n",
        "      phone_data.append(phone[i])\n",
        "      user_data.append(user[j])\n",
        "      rating_data.append(rating[i][j])"
      ],
      "metadata": {
        "id": "GnqkHGMUZdPH"
      },
      "execution_count": 18,
      "outputs": []
    },
    {
      "cell_type": "code",
      "source": [
        "len(phone_data)"
      ],
      "metadata": {
        "colab": {
          "base_uri": "https://localhost:8080/"
        },
        "id": "9wIOEBr6e7Y0",
        "outputId": "06e7db2e-b8f2-4fea-c0f6-65731cb1ae28"
      },
      "execution_count": 19,
      "outputs": [
        {
          "output_type": "execute_result",
          "data": {
            "text/plain": [
              "5439"
            ]
          },
          "metadata": {},
          "execution_count": 19
        }
      ]
    },
    {
      "cell_type": "markdown",
      "source": [
        "Convert phone data, user data, and rating data to tensors and shuffle them."
      ],
      "metadata": {
        "id": "YdSyeVwv_6Ww"
      }
    },
    {
      "cell_type": "code",
      "source": [
        "combined_dataset = list(zip(phone_data, user_data, rating_data))\n",
        "random.shuffle(combined_dataset)\n",
        "phone_dataset, user_dataset, rating_dataset = zip(*combined_dataset)\n",
        "phone_dataset, user_dataset, rating_dataset = list(phone_dataset), list(user_dataset), list(rating_dataset)"
      ],
      "metadata": {
        "id": "3hz-cjs3Wnhh"
      },
      "execution_count": 20,
      "outputs": []
    },
    {
      "cell_type": "code",
      "source": [
        "phone_dataset = tf.convert_to_tensor(phone_dataset)\n",
        "user_dataset = tf.convert_to_tensor(user_dataset)\n",
        "rating_dataset = tf.convert_to_tensor(rating_dataset)"
      ],
      "metadata": {
        "id": "gItbxK_bUtN_"
      },
      "execution_count": 21,
      "outputs": []
    },
    {
      "cell_type": "markdown",
      "source": [
        "Distribute data into training and validation set."
      ],
      "metadata": {
        "id": "13oapBBQYcll"
      }
    },
    {
      "cell_type": "code",
      "source": [
        "train_phone = phone_dataset[int(len(phone_dataset)/4):]\n",
        "train_user = user_dataset[int(len(user_dataset)/4):]\n",
        "train_rating = rating_dataset[int(len(rating_dataset)/4):]"
      ],
      "metadata": {
        "id": "PB0Er2q8EJ7F"
      },
      "execution_count": 22,
      "outputs": []
    },
    {
      "cell_type": "code",
      "source": [
        "val_phone = phone_dataset[:int(len(phone_dataset)/4)]\n",
        "val_user = user_dataset[:int(len(user_dataset)/4)]\n",
        "val_rating = rating_dataset[:int(len(rating_dataset)/4)]"
      ],
      "metadata": {
        "id": "7oobNSXrEsgl"
      },
      "execution_count": 23,
      "outputs": []
    },
    {
      "cell_type": "markdown",
      "source": [
        "Create a model with two inputs for user data and phone data, the output is the dot product of the two vectors from user_NN and phone_NN which is the predicted rating."
      ],
      "metadata": {
        "id": "K5UOjcVdADo4"
      }
    },
    {
      "cell_type": "code",
      "source": [
        "num_outputs = 128\n",
        "\n",
        "user_NN = tf.keras.models.Sequential([\n",
        "    tf.keras.layers.Dense(2048, activation='relu'),\n",
        "    tf.keras.layers.Dense(1024, activation='relu'),\n",
        "    tf.keras.layers.Dense(512, activation='relu'),\n",
        "    tf.keras.layers.Dense(256, activation='relu'),\n",
        "    tf.keras.layers.Dense(128, activation='relu')\n",
        "])\n",
        "\n",
        "phone_NN = tf.keras.models.Sequential([\n",
        "    tf.keras.layers.Dense(2048, activation='relu'),\n",
        "    tf.keras.layers.Dense(1024, activation='relu'),\n",
        "    tf.keras.layers.Dense(512, activation='relu'),\n",
        "    tf.keras.layers.Dense(256, activation='relu'),\n",
        "    tf.keras.layers.Dense(128, activation='relu')\n",
        "])\n",
        "\n",
        "user_input = tf.keras.layers.Input(shape=(17))\n",
        "user_vector = user_NN(user_input)\n",
        "normalized_user = tf.linalg.l2_normalize(user_vector, axis=1)\n",
        "\n",
        "phone_input = tf.keras.layers.Input(shape=(75))\n",
        "phone_vector = phone_NN(phone_input)\n",
        "normalized_phone = tf.linalg.l2_normalize(phone_vector, axis=1)\n",
        "\n",
        "output = tf.keras.layers.Dot(axes=1)([normalized_user,normalized_phone])\n",
        "output = tf.keras.layers.Lambda(lambda x: x * 5)(output)\n",
        "\n",
        "model = tf.keras.models.Model(inputs=[user_input,phone_input], outputs=output)\n",
        "user_model = tf.keras.models.Model(inputs=user_input, outputs=normalized_user)\n",
        "phone_model = tf.keras.models.Model(inputs=phone_input, outputs=normalized_phone)"
      ],
      "metadata": {
        "id": "MrovK6eIZz3y"
      },
      "execution_count": 24,
      "outputs": []
    },
    {
      "cell_type": "code",
      "source": [
        "model.summary()"
      ],
      "metadata": {
        "colab": {
          "base_uri": "https://localhost:8080/"
        },
        "id": "3wdFrwVVbzGP",
        "outputId": "09cc86ad-3a62-48d5-a534-05fc265b0493"
      },
      "execution_count": 25,
      "outputs": [
        {
          "output_type": "stream",
          "name": "stdout",
          "text": [
            "Model: \"model\"\n",
            "__________________________________________________________________________________________________\n",
            " Layer (type)                Output Shape                 Param #   Connected to                  \n",
            "==================================================================================================\n",
            " input_1 (InputLayer)        [(None, 17)]                 0         []                            \n",
            "                                                                                                  \n",
            " input_2 (InputLayer)        [(None, 75)]                 0         []                            \n",
            "                                                                                                  \n",
            " sequential (Sequential)     (None, 128)                  2824064   ['input_1[0][0]']             \n",
            "                                                                                                  \n",
            " sequential_1 (Sequential)   (None, 128)                  2942848   ['input_2[0][0]']             \n",
            "                                                                                                  \n",
            " tf.math.l2_normalize (TFOp  (None, 128)                  0         ['sequential[0][0]']          \n",
            " Lambda)                                                                                          \n",
            "                                                                                                  \n",
            " tf.math.l2_normalize_1 (TF  (None, 128)                  0         ['sequential_1[0][0]']        \n",
            " OpLambda)                                                                                        \n",
            "                                                                                                  \n",
            " dot (Dot)                   (None, 1)                    0         ['tf.math.l2_normalize[0][0]',\n",
            "                                                                     'tf.math.l2_normalize_1[0][0]\n",
            "                                                                    ']                            \n",
            "                                                                                                  \n",
            " lambda (Lambda)             (None, 1)                    0         ['dot[0][0]']                 \n",
            "                                                                                                  \n",
            "==================================================================================================\n",
            "Total params: 5766912 (22.00 MB)\n",
            "Trainable params: 5766912 (22.00 MB)\n",
            "Non-trainable params: 0 (0.00 Byte)\n",
            "__________________________________________________________________________________________________\n"
          ]
        }
      ]
    },
    {
      "cell_type": "code",
      "source": [
        "user_model.summary()"
      ],
      "metadata": {
        "colab": {
          "base_uri": "https://localhost:8080/"
        },
        "id": "QVIArzVCETpX",
        "outputId": "e575fe9a-7805-4cb0-adf0-88c8aacfe2b8"
      },
      "execution_count": 26,
      "outputs": [
        {
          "output_type": "stream",
          "name": "stdout",
          "text": [
            "Model: \"model_1\"\n",
            "_________________________________________________________________\n",
            " Layer (type)                Output Shape              Param #   \n",
            "=================================================================\n",
            " input_1 (InputLayer)        [(None, 17)]              0         \n",
            "                                                                 \n",
            " sequential (Sequential)     (None, 128)               2824064   \n",
            "                                                                 \n",
            " tf.math.l2_normalize (TFOp  (None, 128)               0         \n",
            " Lambda)                                                         \n",
            "                                                                 \n",
            "=================================================================\n",
            "Total params: 2824064 (10.77 MB)\n",
            "Trainable params: 2824064 (10.77 MB)\n",
            "Non-trainable params: 0 (0.00 Byte)\n",
            "_________________________________________________________________\n"
          ]
        }
      ]
    },
    {
      "cell_type": "code",
      "source": [
        "phone_model.summary()"
      ],
      "metadata": {
        "colab": {
          "base_uri": "https://localhost:8080/"
        },
        "id": "G-IIzqDFEVyj",
        "outputId": "faedf490-9eea-4675-b563-5286b6086178"
      },
      "execution_count": 27,
      "outputs": [
        {
          "output_type": "stream",
          "name": "stdout",
          "text": [
            "Model: \"model_2\"\n",
            "_________________________________________________________________\n",
            " Layer (type)                Output Shape              Param #   \n",
            "=================================================================\n",
            " input_2 (InputLayer)        [(None, 75)]              0         \n",
            "                                                                 \n",
            " sequential_1 (Sequential)   (None, 128)               2942848   \n",
            "                                                                 \n",
            " tf.math.l2_normalize_1 (TF  (None, 128)               0         \n",
            " OpLambda)                                                       \n",
            "                                                                 \n",
            "=================================================================\n",
            "Total params: 2942848 (11.23 MB)\n",
            "Trainable params: 2942848 (11.23 MB)\n",
            "Non-trainable params: 0 (0.00 Byte)\n",
            "_________________________________________________________________\n"
          ]
        }
      ]
    },
    {
      "cell_type": "code",
      "source": [
        "model.compile(optimizer=tf.keras.optimizers.Adam(learning_rate=0.01), loss='mse')"
      ],
      "metadata": {
        "id": "LygxlEeIgDOi"
      },
      "execution_count": 28,
      "outputs": []
    },
    {
      "cell_type": "markdown",
      "source": [
        "Train the model."
      ],
      "metadata": {
        "id": "0OqDN0qACGWi"
      }
    },
    {
      "cell_type": "code",
      "source": [
        "model.fit([train_user, train_phone], train_rating, epochs=15, validation_data=([val_user, val_phone], val_rating))"
      ],
      "metadata": {
        "colab": {
          "base_uri": "https://localhost:8080/"
        },
        "id": "dV6hmL8aE8KL",
        "outputId": "cf8c62d3-4cec-4f90-a52b-ddb37fb877ab"
      },
      "execution_count": 29,
      "outputs": [
        {
          "output_type": "stream",
          "name": "stdout",
          "text": [
            "Epoch 1/15\n",
            "128/128 [==============================] - 26s 185ms/step - loss: 0.4252 - val_loss: 0.3334\n",
            "Epoch 2/15\n",
            "128/128 [==============================] - 17s 130ms/step - loss: 0.3357 - val_loss: 0.3319\n",
            "Epoch 3/15\n",
            "128/128 [==============================] - 17s 136ms/step - loss: 0.3334 - val_loss: 0.3355\n",
            "Epoch 4/15\n",
            "128/128 [==============================] - 13s 104ms/step - loss: 0.3325 - val_loss: 0.3298\n",
            "Epoch 5/15\n",
            "128/128 [==============================] - 13s 100ms/step - loss: 0.3285 - val_loss: 0.3232\n",
            "Epoch 6/15\n",
            "128/128 [==============================] - 12s 95ms/step - loss: 0.3199 - val_loss: 0.3215\n",
            "Epoch 7/15\n",
            "128/128 [==============================] - 13s 101ms/step - loss: 0.3133 - val_loss: 0.3085\n",
            "Epoch 8/15\n",
            "128/128 [==============================] - 13s 102ms/step - loss: 0.3061 - val_loss: 0.3025\n",
            "Epoch 9/15\n",
            "128/128 [==============================] - 13s 100ms/step - loss: 0.3077 - val_loss: 0.3068\n",
            "Epoch 10/15\n",
            "128/128 [==============================] - 13s 99ms/step - loss: 0.3020 - val_loss: 0.3006\n",
            "Epoch 11/15\n",
            "128/128 [==============================] - 12s 94ms/step - loss: 0.3005 - val_loss: 0.3013\n",
            "Epoch 12/15\n",
            "128/128 [==============================] - 13s 100ms/step - loss: 0.2992 - val_loss: 0.3084\n",
            "Epoch 13/15\n",
            "128/128 [==============================] - 13s 100ms/step - loss: 0.3019 - val_loss: 0.3047\n",
            "Epoch 14/15\n",
            "128/128 [==============================] - 13s 100ms/step - loss: 0.2962 - val_loss: 0.3137\n",
            "Epoch 15/15\n",
            "128/128 [==============================] - 13s 99ms/step - loss: 0.2962 - val_loss: 0.2979\n"
          ]
        },
        {
          "output_type": "execute_result",
          "data": {
            "text/plain": [
              "<keras.src.callbacks.History at 0x7f81c7d83160>"
            ]
          },
          "metadata": {},
          "execution_count": 29
        }
      ]
    },
    {
      "cell_type": "code",
      "source": [
        "model.evaluate([val_user, val_phone], val_rating)"
      ],
      "metadata": {
        "colab": {
          "base_uri": "https://localhost:8080/"
        },
        "id": "jPUeJ5ILF2v2",
        "outputId": "a08c24a6-f774-4ca5-93e9-9e95d6a92b39"
      },
      "execution_count": 30,
      "outputs": [
        {
          "output_type": "stream",
          "name": "stdout",
          "text": [
            "43/43 [==============================] - 1s 14ms/step - loss: 0.2979\n"
          ]
        },
        {
          "output_type": "execute_result",
          "data": {
            "text/plain": [
              "0.297928124666214"
            ]
          },
          "metadata": {},
          "execution_count": 30
        }
      ]
    },
    {
      "cell_type": "code",
      "source": [
        "model.save('model.keras')"
      ],
      "metadata": {
        "id": "TKTNPtc8t6dr"
      },
      "execution_count": 31,
      "outputs": []
    },
    {
      "cell_type": "code",
      "source": [
        "user_model.save('user_model.keras')"
      ],
      "metadata": {
        "id": "nzUas7XBt8Pe"
      },
      "execution_count": 32,
      "outputs": []
    },
    {
      "cell_type": "code",
      "source": [
        "phone_model.save('phone_model.keras')"
      ],
      "metadata": {
        "id": "57ppXGoZt_Sx"
      },
      "execution_count": 33,
      "outputs": []
    },
    {
      "cell_type": "markdown",
      "source": [
        "Predict rating."
      ],
      "metadata": {
        "id": "Kr1ZtpMKG4ZG"
      }
    },
    {
      "cell_type": "code",
      "source": [
        "model.predict([tf.convert_to_tensor([user_data[5]]), tf.convert_to_tensor([phone_data[5]])])"
      ],
      "metadata": {
        "id": "CvkJw0OGWVMT",
        "colab": {
          "base_uri": "https://localhost:8080/"
        },
        "outputId": "1f1e5831-f4e7-440a-f1dc-0f4c1c3ffe4d"
      },
      "execution_count": 34,
      "outputs": [
        {
          "output_type": "stream",
          "name": "stdout",
          "text": [
            "1/1 [==============================] - 0s 156ms/step\n"
          ]
        },
        {
          "output_type": "execute_result",
          "data": {
            "text/plain": [
              "array([[4.388136]], dtype=float32)"
            ]
          },
          "metadata": {},
          "execution_count": 34
        }
      ]
    },
    {
      "cell_type": "code",
      "source": [
        "rating_data[5]"
      ],
      "metadata": {
        "id": "C8jvb62qbLU6",
        "colab": {
          "base_uri": "https://localhost:8080/"
        },
        "outputId": "6dd40621-5c82-4d72-b4ff-ae3aa03de5ed"
      },
      "execution_count": 35,
      "outputs": [
        {
          "output_type": "execute_result",
          "data": {
            "text/plain": [
              "3.0"
            ]
          },
          "metadata": {},
          "execution_count": 35
        }
      ]
    },
    {
      "cell_type": "code",
      "source": [
        "user_data[5]"
      ],
      "metadata": {
        "colab": {
          "base_uri": "https://localhost:8080/"
        },
        "id": "exCugB8cFKZ0",
        "outputId": "491c2999-0319-40de-e4a4-7a80f8aa4755"
      },
      "execution_count": 36,
      "outputs": [
        {
          "output_type": "execute_result",
          "data": {
            "text/plain": [
              "<tf.Tensor: shape=(17,), dtype=float32, numpy=\n",
              "array([4., 5., 5., 4., 5., 5., 0., 0., 0., 1., 0., 0., 0., 0., 0., 0., 0.],\n",
              "      dtype=float32)>"
            ]
          },
          "metadata": {},
          "execution_count": 36
        }
      ]
    },
    {
      "cell_type": "markdown",
      "source": [
        "Predict rating by dot product of user vector and phone vector."
      ],
      "metadata": {
        "id": "zdWu8hyLG72u"
      }
    },
    {
      "cell_type": "code",
      "source": [
        "user_vector_pred = user_model.predict(tf.expand_dims(user_data[5], 0))\n",
        "phone_vector_pred = phone_model.predict(tf.expand_dims(phone_data[5], 0))\n",
        "tf.tensordot(user_vector_pred, phone_vector_pred, axes=(1,1)) * 5"
      ],
      "metadata": {
        "colab": {
          "base_uri": "https://localhost:8080/"
        },
        "id": "fUjGXo5OEtbW",
        "outputId": "08f6e600-115e-413c-ac96-b5599b1cceeb"
      },
      "execution_count": 37,
      "outputs": [
        {
          "output_type": "stream",
          "name": "stdout",
          "text": [
            "1/1 [==============================] - 0s 75ms/step\n",
            "1/1 [==============================] - 0s 91ms/step\n"
          ]
        },
        {
          "output_type": "execute_result",
          "data": {
            "text/plain": [
              "<tf.Tensor: shape=(1, 1), dtype=float32, numpy=array([[4.388136]], dtype=float32)>"
            ]
          },
          "metadata": {},
          "execution_count": 37
        }
      ]
    },
    {
      "cell_type": "markdown",
      "source": [
        "Preprocess data into input compatible with the model."
      ],
      "metadata": {
        "id": "Q0wa7icqCLuB"
      }
    },
    {
      "cell_type": "code",
      "source": [
        "def preprocess_user(x):\n",
        "  one_hot = x[-1]\n",
        "  one_hot = tf.one_hot(brand_choice_list.index(one_hot), len(brand_choice_list))\n",
        "  x = tf.cast(tf.convert_to_tensor(x[:-1]), tf.float32)\n",
        "  return tf.expand_dims(tf.concat([x, one_hot], 0), 0)"
      ],
      "metadata": {
        "id": "JWgNH5qmYGmV"
      },
      "execution_count": 38,
      "outputs": []
    },
    {
      "cell_type": "code",
      "source": [
        "a = [5,5,5,5,5,5,'Infinix'] # performance, camera, battery, software, RAM, storage, favorite brand\n",
        "preprocessed_output = preprocess_user(a)"
      ],
      "metadata": {
        "id": "-14XAy6QpTPH"
      },
      "execution_count": 39,
      "outputs": []
    },
    {
      "cell_type": "markdown",
      "source": [
        "Create a user vector."
      ],
      "metadata": {
        "id": "8qxp2EGxhV2i"
      }
    },
    {
      "cell_type": "code",
      "source": [
        "u_vector = user_model.predict(preprocessed_output)"
      ],
      "metadata": {
        "colab": {
          "base_uri": "https://localhost:8080/"
        },
        "id": "sqSrA6rEHeIZ",
        "outputId": "bb00503e-a12f-467a-b5df-575ad892deaa"
      },
      "execution_count": 40,
      "outputs": [
        {
          "output_type": "stream",
          "name": "stdout",
          "text": [
            "1/1 [==============================] - 0s 20ms/step\n"
          ]
        }
      ]
    },
    {
      "cell_type": "code",
      "source": [
        "u_vector.shape"
      ],
      "metadata": {
        "colab": {
          "base_uri": "https://localhost:8080/"
        },
        "id": "HOq7XIrAisYg",
        "outputId": "199ae276-f4b7-4194-87f5-025dc1ed4681"
      },
      "execution_count": 41,
      "outputs": [
        {
          "output_type": "execute_result",
          "data": {
            "text/plain": [
              "(1, 128)"
            ]
          },
          "metadata": {},
          "execution_count": 41
        }
      ]
    },
    {
      "cell_type": "markdown",
      "source": [
        "Create phone vectors."
      ],
      "metadata": {
        "id": "N-YZKO9UhaBi"
      }
    },
    {
      "cell_type": "code",
      "source": [
        "p_vector = phone_model.predict(phone)"
      ],
      "metadata": {
        "colab": {
          "base_uri": "https://localhost:8080/"
        },
        "id": "Cyrlpez5gTCX",
        "outputId": "8acd617f-fa03-44e6-d67e-e32f67eed7b9"
      },
      "execution_count": 42,
      "outputs": [
        {
          "output_type": "stream",
          "name": "stdout",
          "text": [
            "3/3 [==============================] - 0s 9ms/step\n"
          ]
        }
      ]
    },
    {
      "cell_type": "code",
      "source": [
        "p_vector.shape"
      ],
      "metadata": {
        "colab": {
          "base_uri": "https://localhost:8080/"
        },
        "id": "c76BOS4Miu4Z",
        "outputId": "d37a5253-7c69-4544-a3c2-25a21ad65dc2"
      },
      "execution_count": 43,
      "outputs": [
        {
          "output_type": "execute_result",
          "data": {
            "text/plain": [
              "(96, 128)"
            ]
          },
          "metadata": {},
          "execution_count": 43
        }
      ]
    },
    {
      "cell_type": "markdown",
      "source": [
        "Save phone vectors into csv file."
      ],
      "metadata": {
        "id": "Ih7Ro5TdoUOv"
      }
    },
    {
      "cell_type": "code",
      "source": [
        "with open('phone_vector.csv', 'w') as file:\n",
        "  csvwriter = csv.writer(file)\n",
        "  csvwriter.writerows(p_vector)"
      ],
      "metadata": {
        "id": "vU1gsGvFoAoP"
      },
      "execution_count": 128,
      "outputs": []
    },
    {
      "cell_type": "markdown",
      "source": [
        "Predict phone ratings for a user."
      ],
      "metadata": {
        "id": "uVXbM6oChem3"
      }
    },
    {
      "cell_type": "code",
      "source": [
        "rating_pred_list = []\n",
        "for p in p_vector:\n",
        "  rating_pred_list.append(tf.tensordot(u_vector, tf.expand_dims(p, 0), axes=(1,1)) * 5)"
      ],
      "metadata": {
        "id": "bmy4BANth4C5"
      },
      "execution_count": 44,
      "outputs": []
    },
    {
      "cell_type": "markdown",
      "source": [
        "Get phone name."
      ],
      "metadata": {
        "id": "6AhyBP7Fr8NL"
      }
    },
    {
      "cell_type": "code",
      "source": [
        "phone_pred_list = phone_dict['phone_name']"
      ],
      "metadata": {
        "id": "nlc4souOinUD"
      },
      "execution_count": 45,
      "outputs": []
    },
    {
      "cell_type": "markdown",
      "source": [
        "Sort ratings to get top 10 recommended phones for a user."
      ],
      "metadata": {
        "id": "L_PQ9x62r-ti"
      }
    },
    {
      "cell_type": "code",
      "source": [
        "top_10_phone = list(zip(rating_pred_list, phone_pred_list))\n",
        "top_10_phone.sort(reverse=True)\n",
        "rating_pred_list, phone_pred_list = zip(*top_10_phone)\n",
        "rating_pred_list, phone_pred_list = list(rating_pred_list), list(phone_pred_list)"
      ],
      "metadata": {
        "id": "dhuJ5_dtrJUq"
      },
      "execution_count": 46,
      "outputs": []
    },
    {
      "cell_type": "markdown",
      "source": [
        "Print out top 10 recommended phones."
      ],
      "metadata": {
        "id": "JBWy8kyVsHI7"
      }
    },
    {
      "cell_type": "code",
      "source": [
        "top_10_list = []\n",
        "for i in range(10):\n",
        "  top_10_list.append(phone_pred_list[i])\n",
        "  print(i+1, phone_pred_list[i], rating_pred_list[i].numpy())"
      ],
      "metadata": {
        "colab": {
          "base_uri": "https://localhost:8080/"
        },
        "id": "VDeR4FHdkPqv",
        "outputId": "90d3ab39-9d31-498f-e4b1-68e2585b1ddc"
      },
      "execution_count": 47,
      "outputs": [
        {
          "output_type": "stream",
          "name": "stdout",
          "text": [
            "1 Oppo Find N3 [[4.422674]]\n",
            "2 Samsung Galaxy Z Fold5 [[4.4226365]]\n",
            "3 Xiaomi 14 [[4.422406]]\n",
            "4 Oppo Find X7 [[4.4222746]]\n",
            "5 Huawei Pura 70 Ultra [[4.422265]]\n",
            "6 iPhone 15 Pro Max [[4.4222627]]\n",
            "7 iPhone 15 Pro [[4.422254]]\n",
            "8 iPhone 14 Pro [[4.4221883]]\n",
            "9 Vivo V30 Pro [[4.4221864]]\n",
            "10 iPhone 14 Pro Max [[4.4221835]]\n"
          ]
        }
      ]
    },
    {
      "cell_type": "code",
      "source": [
        "top_10_list"
      ],
      "metadata": {
        "colab": {
          "base_uri": "https://localhost:8080/"
        },
        "id": "NfBCbAr9sT_3",
        "outputId": "59cd23cb-1316-4836-9837-8e9beaeb9ff3"
      },
      "execution_count": 48,
      "outputs": [
        {
          "output_type": "execute_result",
          "data": {
            "text/plain": [
              "['Oppo Find N3',\n",
              " 'Samsung Galaxy Z Fold5',\n",
              " 'Xiaomi 14',\n",
              " 'Oppo Find X7',\n",
              " 'Huawei Pura 70 Ultra',\n",
              " 'iPhone 15 Pro Max',\n",
              " 'iPhone 15 Pro',\n",
              " 'iPhone 14 Pro',\n",
              " 'Vivo V30 Pro',\n",
              " 'iPhone 14 Pro Max']"
            ]
          },
          "metadata": {},
          "execution_count": 48
        }
      ]
    },
    {
      "cell_type": "markdown",
      "source": [
        "Calculate square distance between phone vectors to get related phones."
      ],
      "metadata": {
        "id": "lQnmFRssnwqw"
      }
    },
    {
      "cell_type": "code",
      "source": [
        "top_distance = []\n",
        "top_distance_name = []\n",
        "for i,x in enumerate(phone):\n",
        "  all_distance = []\n",
        "  phone_pred_list = phone_dict['phone_name']\n",
        "  for j,y in enumerate(phone):\n",
        "    if tf.math.reduce_all(tf.math.equal(x,y)):\n",
        "      continue\n",
        "    else:\n",
        "      all_distance.append(tf.math.reduce_sum(tf.math.square(x-y)))\n",
        "  phone_pred_list = phone_pred_list[:i] + phone_pred_list[i+1:]\n",
        "  combined_dist = list(zip(all_distance, phone_pred_list))\n",
        "  combined_dist.sort()\n",
        "  all_distance, phone_pred_list = zip(*combined_dist)\n",
        "  all_distance, phone_pred_list = list(all_distance), list(phone_pred_list)\n",
        "  top_distance.append(all_distance[:10])\n",
        "  top_distance_name.append(phone_pred_list[:10])"
      ],
      "metadata": {
        "id": "np6DW5xTXyN9"
      },
      "execution_count": 100,
      "outputs": []
    },
    {
      "cell_type": "code",
      "source": [
        "top_distance"
      ],
      "metadata": {
        "colab": {
          "base_uri": "https://localhost:8080/"
        },
        "collapsed": true,
        "id": "SxIsbIR4f6cb",
        "outputId": "3b98a3df-8c78-47ce-a8b2-4dd45f72fd25"
      },
      "execution_count": 105,
      "outputs": [
        {
          "output_type": "execute_result",
          "data": {
            "text/plain": [
              "[[<tf.Tensor: shape=(), dtype=float32, numpy=3.0628145>,\n",
              "  <tf.Tensor: shape=(), dtype=float32, numpy=172.07433>,\n",
              "  <tf.Tensor: shape=(), dtype=float32, numpy=254.086>,\n",
              "  <tf.Tensor: shape=(), dtype=float32, numpy=254.17224>,\n",
              "  <tf.Tensor: shape=(), dtype=float32, numpy=254.64478>,\n",
              "  <tf.Tensor: shape=(), dtype=float32, numpy=368.10553>,\n",
              "  <tf.Tensor: shape=(), dtype=float32, numpy=675.16125>,\n",
              "  <tf.Tensor: shape=(), dtype=float32, numpy=717.0067>,\n",
              "  <tf.Tensor: shape=(), dtype=float32, numpy=980.11383>,\n",
              "  <tf.Tensor: shape=(), dtype=float32, numpy=1303.1249>],\n",
              " [<tf.Tensor: shape=(), dtype=float32, numpy=34.03621>,\n",
              "  <tf.Tensor: shape=(), dtype=float32, numpy=34.303444>,\n",
              "  <tf.Tensor: shape=(), dtype=float32, numpy=35.025963>,\n",
              "  <tf.Tensor: shape=(), dtype=float32, numpy=171.00902>,\n",
              "  <tf.Tensor: shape=(), dtype=float32, numpy=172.07433>,\n",
              "  <tf.Tensor: shape=(), dtype=float32, numpy=196.02806>,\n",
              "  <tf.Tensor: shape=(), dtype=float32, numpy=808.03015>,\n",
              "  <tf.Tensor: shape=(), dtype=float32, numpy=885.0636>,\n",
              "  <tf.Tensor: shape=(), dtype=float32, numpy=1135.0347>,\n",
              "  <tf.Tensor: shape=(), dtype=float32, numpy=1173.0328>],\n",
              " [<tf.Tensor: shape=(), dtype=float32, numpy=39.001877>,\n",
              "  <tf.Tensor: shape=(), dtype=float32, numpy=612.0013>,\n",
              "  <tf.Tensor: shape=(), dtype=float32, numpy=733.0046>,\n",
              "  <tf.Tensor: shape=(), dtype=float32, numpy=808.03015>,\n",
              "  <tf.Tensor: shape=(), dtype=float32, numpy=861.0012>,\n",
              "  <tf.Tensor: shape=(), dtype=float32, numpy=902.0835>,\n",
              "  <tf.Tensor: shape=(), dtype=float32, numpy=902.43414>,\n",
              "  <tf.Tensor: shape=(), dtype=float32, numpy=903.2678>,\n",
              "  <tf.Tensor: shape=(), dtype=float32, numpy=979.0471>,\n",
              "  <tf.Tensor: shape=(), dtype=float32, numpy=980.11383>],\n",
              " [<tf.Tensor: shape=(), dtype=float32, numpy=196.02806>,\n",
              "  <tf.Tensor: shape=(), dtype=float32, numpy=230.06856>,\n",
              "  <tf.Tensor: shape=(), dtype=float32, numpy=230.40071>,\n",
              "  <tf.Tensor: shape=(), dtype=float32, numpy=231.23431>,\n",
              "  <tf.Tensor: shape=(), dtype=float32, numpy=367.0396>,\n",
              "  <tf.Tensor: shape=(), dtype=float32, numpy=368.10553>,\n",
              "  <tf.Tensor: shape=(), dtype=float32, numpy=612.0013>,\n",
              "  <tf.Tensor: shape=(), dtype=float32, numpy=939.00446>,\n",
              "  <tf.Tensor: shape=(), dtype=float32, numpy=1081.0927>,\n",
              "  <tf.Tensor: shape=(), dtype=float32, numpy=1369.0042>],\n",
              " [<tf.Tensor: shape=(), dtype=float32, numpy=3.0628145>,\n",
              "  <tf.Tensor: shape=(), dtype=float32, numpy=171.00902>,\n",
              "  <tf.Tensor: shape=(), dtype=float32, numpy=255.02467>,\n",
              "  <tf.Tensor: shape=(), dtype=float32, numpy=255.24527>,\n",
              "  <tf.Tensor: shape=(), dtype=float32, numpy=255.96777>,\n",
              "  <tf.Tensor: shape=(), dtype=float32, numpy=367.0396>,\n",
              "  <tf.Tensor: shape=(), dtype=float32, numpy=674.2344>,\n",
              "  <tf.Tensor: shape=(), dtype=float32, numpy=716.0673>,\n",
              "  <tf.Tensor: shape=(), dtype=float32, numpy=979.0471>,\n",
              "  <tf.Tensor: shape=(), dtype=float32, numpy=1304.0566>],\n",
              " [<tf.Tensor: shape=(), dtype=float32, numpy=274.09744>,\n",
              "  <tf.Tensor: shape=(), dtype=float32, numpy=988.0421>,\n",
              "  <tf.Tensor: shape=(), dtype=float32, numpy=1426.0948>,\n",
              "  <tf.Tensor: shape=(), dtype=float32, numpy=1427.0309>,\n",
              "  <tf.Tensor: shape=(), dtype=float32, numpy=1766.1228>,\n",
              "  <tf.Tensor: shape=(), dtype=float32, numpy=2115.1133>,\n",
              "  <tf.Tensor: shape=(), dtype=float32, numpy=2279.104>,\n",
              "  <tf.Tensor: shape=(), dtype=float32, numpy=2279.1064>,\n",
              "  <tf.Tensor: shape=(), dtype=float32, numpy=2279.4678>,\n",
              "  <tf.Tensor: shape=(), dtype=float32, numpy=2311.2012>],\n",
              " [<tf.Tensor: shape=(), dtype=float32, numpy=274.09744>,\n",
              "  <tf.Tensor: shape=(), dtype=float32, numpy=674.2344>,\n",
              "  <tf.Tensor: shape=(), dtype=float32, numpy=675.16125>,\n",
              "  <tf.Tensor: shape=(), dtype=float32, numpy=876.20715>,\n",
              "  <tf.Tensor: shape=(), dtype=float32, numpy=1363.2986>,\n",
              "  <tf.Tensor: shape=(), dtype=float32, numpy=1485.0039>,\n",
              "  <tf.Tensor: shape=(), dtype=float32, numpy=1485.1782>,\n",
              "  <tf.Tensor: shape=(), dtype=float32, numpy=1485.3651>,\n",
              "  <tf.Tensor: shape=(), dtype=float32, numpy=1559.396>,\n",
              "  <tf.Tensor: shape=(), dtype=float32, numpy=1702.0674>],\n",
              " [<tf.Tensor: shape=(), dtype=float32, numpy=924.1753>,\n",
              "  <tf.Tensor: shape=(), dtype=float32, numpy=1099.6306>,\n",
              "  <tf.Tensor: shape=(), dtype=float32, numpy=1702.0674>,\n",
              "  <tf.Tensor: shape=(), dtype=float32, numpy=1766.1228>,\n",
              "  <tf.Tensor: shape=(), dtype=float32, numpy=3190.1252>,\n",
              "  <tf.Tensor: shape=(), dtype=float32, numpy=3191.179>,\n",
              "  <tf.Tensor: shape=(), dtype=float32, numpy=3424.2173>,\n",
              "  <tf.Tensor: shape=(), dtype=float32, numpy=3623.0715>,\n",
              "  <tf.Tensor: shape=(), dtype=float32, numpy=3623.0837>,\n",
              "  <tf.Tensor: shape=(), dtype=float32, numpy=3623.6829>],\n",
              " [<tf.Tensor: shape=(), dtype=float32, numpy=39.001877>,\n",
              "  <tf.Tensor: shape=(), dtype=float32, numpy=770.0064>,\n",
              "  <tf.Tensor: shape=(), dtype=float32, numpy=898.0015>,\n",
              "  <tf.Tensor: shape=(), dtype=float32, numpy=939.00446>,\n",
              "  <tf.Tensor: shape=(), dtype=float32, numpy=950.0001>,\n",
              "  <tf.Tensor: shape=(), dtype=float32, numpy=1135.0347>,\n",
              "  <tf.Tensor: shape=(), dtype=float32, numpy=1225.0941>,\n",
              "  <tf.Tensor: shape=(), dtype=float32, numpy=1225.4642>,\n",
              "  <tf.Tensor: shape=(), dtype=float32, numpy=1226.2979>,\n",
              "  <tf.Tensor: shape=(), dtype=float32, numpy=1249.3405>],\n",
              " [<tf.Tensor: shape=(), dtype=float32, numpy=5.031927>,\n",
              "  <tf.Tensor: shape=(), dtype=float32, numpy=6.0002174>,\n",
              "  <tf.Tensor: shape=(), dtype=float32, numpy=146.00032>,\n",
              "  <tf.Tensor: shape=(), dtype=float32, numpy=156.02347>,\n",
              "  <tf.Tensor: shape=(), dtype=float32, numpy=230.35616>,\n",
              "  <tf.Tensor: shape=(), dtype=float32, numpy=434.02347>,\n",
              "  <tf.Tensor: shape=(), dtype=float32, numpy=443.00082>,\n",
              "  <tf.Tensor: shape=(), dtype=float32, numpy=470.00146>,\n",
              "  <tf.Tensor: shape=(), dtype=float32, numpy=470.01834>,\n",
              "  <tf.Tensor: shape=(), dtype=float32, numpy=492.03375>],\n",
              " [<tf.Tensor: shape=(), dtype=float32, numpy=701.5813>,\n",
              "  <tf.Tensor: shape=(), dtype=float32, numpy=1099.6306>,\n",
              "  <tf.Tensor: shape=(), dtype=float32, numpy=2262.1548>,\n",
              "  <tf.Tensor: shape=(), dtype=float32, numpy=2262.2937>,\n",
              "  <tf.Tensor: shape=(), dtype=float32, numpy=2262.827>,\n",
              "  <tf.Tensor: shape=(), dtype=float32, numpy=2631.01>,\n",
              "  <tf.Tensor: shape=(), dtype=float32, numpy=2647.287>,\n",
              "  <tf.Tensor: shape=(), dtype=float32, numpy=2695.501>,\n",
              "  <tf.Tensor: shape=(), dtype=float32, numpy=2799.9126>,\n",
              "  <tf.Tensor: shape=(), dtype=float32, numpy=2800.584>],\n",
              " [<tf.Tensor: shape=(), dtype=float32, numpy=12.02429>,\n",
              "  <tf.Tensor: shape=(), dtype=float32, numpy=98.024>,\n",
              "  <tf.Tensor: shape=(), dtype=float32, numpy=107.00017>,\n",
              "  <tf.Tensor: shape=(), dtype=float32, numpy=125.03138>,\n",
              "  <tf.Tensor: shape=(), dtype=float32, numpy=126.00047>,\n",
              "  <tf.Tensor: shape=(), dtype=float32, numpy=134.00046>,\n",
              "  <tf.Tensor: shape=(), dtype=float32, numpy=134.01682>,\n",
              "  <tf.Tensor: shape=(), dtype=float32, numpy=146.00032>,\n",
              "  <tf.Tensor: shape=(), dtype=float32, numpy=156.0314>,\n",
              "  <tf.Tensor: shape=(), dtype=float32, numpy=294.24564>],\n",
              " [<tf.Tensor: shape=(), dtype=float32, numpy=16.666521>,\n",
              "  <tf.Tensor: shape=(), dtype=float32, numpy=211.41275>,\n",
              "  <tf.Tensor: shape=(), dtype=float32, numpy=570.68646>,\n",
              "  <tf.Tensor: shape=(), dtype=float32, numpy=1765.0073>,\n",
              "  <tf.Tensor: shape=(), dtype=float32, numpy=1775.0472>,\n",
              "  <tf.Tensor: shape=(), dtype=float32, numpy=1898.0471>,\n",
              "  <tf.Tensor: shape=(), dtype=float32, numpy=1899.0449>,\n",
              "  <tf.Tensor: shape=(), dtype=float32, numpy=1901.0076>,\n",
              "  <tf.Tensor: shape=(), dtype=float32, numpy=1910.0477>,\n",
              "  <tf.Tensor: shape=(), dtype=float32, numpy=1919.0458>],\n",
              " [<tf.Tensor: shape=(), dtype=float32, numpy=12.02429>,\n",
              "  <tf.Tensor: shape=(), dtype=float32, numpy=134.02295>,\n",
              "  <tf.Tensor: shape=(), dtype=float32, numpy=135.02435>,\n",
              "  <tf.Tensor: shape=(), dtype=float32, numpy=136.00006>,\n",
              "  <tf.Tensor: shape=(), dtype=float32, numpy=145.02466>,\n",
              "  <tf.Tensor: shape=(), dtype=float32, numpy=156.02347>,\n",
              "  <tf.Tensor: shape=(), dtype=float32, numpy=172.02647>,\n",
              "  <tf.Tensor: shape=(), dtype=float32, numpy=172.04306>,\n",
              "  <tf.Tensor: shape=(), dtype=float32, numpy=194.0881>,\n",
              "  <tf.Tensor: shape=(), dtype=float32, numpy=279.3446>],\n",
              " [<tf.Tensor: shape=(), dtype=float32, numpy=16.666521>,\n",
              "  <tf.Tensor: shape=(), dtype=float32, numpy=233.89249>,\n",
              "  <tf.Tensor: shape=(), dtype=float32, numpy=559.68445>,\n",
              "  <tf.Tensor: shape=(), dtype=float32, numpy=1771.6129>,\n",
              "  <tf.Tensor: shape=(), dtype=float32, numpy=1781.6307>,\n",
              "  <tf.Tensor: shape=(), dtype=float32, numpy=1867.6195>,\n",
              "  <tf.Tensor: shape=(), dtype=float32, numpy=1888.5961>,\n",
              "  <tf.Tensor: shape=(), dtype=float32, numpy=1894.5061>,\n",
              "  <tf.Tensor: shape=(), dtype=float32, numpy=1895.625>,\n",
              "  <tf.Tensor: shape=(), dtype=float32, numpy=1915.6351>],\n",
              " [<tf.Tensor: shape=(), dtype=float32, numpy=0.17424312>,\n",
              "  <tf.Tensor: shape=(), dtype=float32, numpy=0.36111456>,\n",
              "  <tf.Tensor: shape=(), dtype=float32, numpy=34.303444>,\n",
              "  <tf.Tensor: shape=(), dtype=float32, numpy=230.40071>,\n",
              "  <tf.Tensor: shape=(), dtype=float32, numpy=254.17224>,\n",
              "  <tf.Tensor: shape=(), dtype=float32, numpy=255.24527>,\n",
              "  <tf.Tensor: shape=(), dtype=float32, numpy=902.43414>,\n",
              "  <tf.Tensor: shape=(), dtype=float32, numpy=1047.2119>,\n",
              "  <tf.Tensor: shape=(), dtype=float32, numpy=1191.4113>,\n",
              "  <tf.Tensor: shape=(), dtype=float32, numpy=1225.4642>],\n",
              " [<tf.Tensor: shape=(), dtype=float32, numpy=56.1062>,\n",
              "  <tf.Tensor: shape=(), dtype=float32, numpy=226.20367>,\n",
              "  <tf.Tensor: shape=(), dtype=float32, numpy=315.14294>,\n",
              "  <tf.Tensor: shape=(), dtype=float32, numpy=419.19644>,\n",
              "  <tf.Tensor: shape=(), dtype=float32, numpy=419.23627>,\n",
              "  <tf.Tensor: shape=(), dtype=float32, numpy=441.10934>,\n",
              "  <tf.Tensor: shape=(), dtype=float32, numpy=458.20175>,\n",
              "  <tf.Tensor: shape=(), dtype=float32, numpy=515.35315>,\n",
              "  <tf.Tensor: shape=(), dtype=float32, numpy=583.18677>,\n",
              "  <tf.Tensor: shape=(), dtype=float32, numpy=711.20074>],\n",
              " [<tf.Tensor: shape=(), dtype=float32, numpy=0.36111456>,\n",
              "  <tf.Tensor: shape=(), dtype=float32, numpy=0.89646184>,\n",
              "  <tf.Tensor: shape=(), dtype=float32, numpy=35.025963>,\n",
              "  <tf.Tensor: shape=(), dtype=float32, numpy=231.23431>,\n",
              "  <tf.Tensor: shape=(), dtype=float32, numpy=254.64478>,\n",
              "  <tf.Tensor: shape=(), dtype=float32, numpy=255.96777>,\n",
              "  <tf.Tensor: shape=(), dtype=float32, numpy=903.2678>,\n",
              "  <tf.Tensor: shape=(), dtype=float32, numpy=1047.6843>,\n",
              "  <tf.Tensor: shape=(), dtype=float32, numpy=1192.2449>,\n",
              "  <tf.Tensor: shape=(), dtype=float32, numpy=1226.2979>],\n",
              " [<tf.Tensor: shape=(), dtype=float32, numpy=0.17424312>,\n",
              "  <tf.Tensor: shape=(), dtype=float32, numpy=0.89646184>,\n",
              "  <tf.Tensor: shape=(), dtype=float32, numpy=34.03621>,\n",
              "  <tf.Tensor: shape=(), dtype=float32, numpy=230.06856>,\n",
              "  <tf.Tensor: shape=(), dtype=float32, numpy=254.086>,\n",
              "  <tf.Tensor: shape=(), dtype=float32, numpy=255.02467>,\n",
              "  <tf.Tensor: shape=(), dtype=float32, numpy=902.0835>,\n",
              "  <tf.Tensor: shape=(), dtype=float32, numpy=1047.0883>,\n",
              "  <tf.Tensor: shape=(), dtype=float32, numpy=1191.0698>,\n",
              "  <tf.Tensor: shape=(), dtype=float32, numpy=1225.0941>],\n",
              " [<tf.Tensor: shape=(), dtype=float32, numpy=378.5022>,\n",
              "  <tf.Tensor: shape=(), dtype=float32, numpy=559.68445>,\n",
              "  <tf.Tensor: shape=(), dtype=float32, numpy=570.68646>,\n",
              "  <tf.Tensor: shape=(), dtype=float32, numpy=1371.0292>,\n",
              "  <tf.Tensor: shape=(), dtype=float32, numpy=1398.0027>,\n",
              "  <tf.Tensor: shape=(), dtype=float32, numpy=1631.6943>,\n",
              "  <tf.Tensor: shape=(), dtype=float32, numpy=1652.2548>,\n",
              "  <tf.Tensor: shape=(), dtype=float32, numpy=1690.7773>,\n",
              "  <tf.Tensor: shape=(), dtype=float32, numpy=1690.7943>,\n",
              "  <tf.Tensor: shape=(), dtype=float32, numpy=1712.8688>],\n",
              " [<tf.Tensor: shape=(), dtype=float32, numpy=29.028091>,\n",
              "  <tf.Tensor: shape=(), dtype=float32, numpy=262.6935>,\n",
              "  <tf.Tensor: shape=(), dtype=float32, numpy=283.22327>,\n",
              "  <tf.Tensor: shape=(), dtype=float32, numpy=321.74457>,\n",
              "  <tf.Tensor: shape=(), dtype=float32, numpy=321.76123>,\n",
              "  <tf.Tensor: shape=(), dtype=float32, numpy=343.77768>,\n",
              "  <tf.Tensor: shape=(), dtype=float32, numpy=489.75323>,\n",
              "  <tf.Tensor: shape=(), dtype=float32, numpy=490.69873>,\n",
              "  <tf.Tensor: shape=(), dtype=float32, numpy=536.7029>,\n",
              "  <tf.Tensor: shape=(), dtype=float32, numpy=546.69354>],\n",
              " [<tf.Tensor: shape=(), dtype=float32, numpy=2.0282993>,\n",
              "  <tf.Tensor: shape=(), dtype=float32, numpy=6.029865>,\n",
              "  <tf.Tensor: shape=(), dtype=float32, numpy=150.71928>,\n",
              "  <tf.Tensor: shape=(), dtype=float32, numpy=326.02863>,\n",
              "  <tf.Tensor: shape=(), dtype=float32, numpy=440.04807>,\n",
              "  <tf.Tensor: shape=(), dtype=float32, numpy=976.0006>,\n",
              "  <tf.Tensor: shape=(), dtype=float32, numpy=2305.0283>,\n",
              "  <tf.Tensor: shape=(), dtype=float32, numpy=2425.0288>,\n",
              "  <tf.Tensor: shape=(), dtype=float32, numpy=2460.0288>,\n",
              "  <tf.Tensor: shape=(), dtype=float32, numpy=3360.0293>],\n",
              " [<tf.Tensor: shape=(), dtype=float32, numpy=2.0282993>,\n",
              "  <tf.Tensor: shape=(), dtype=float32, numpy=6.0006323>,\n",
              "  <tf.Tensor: shape=(), dtype=float32, numpy=150.68877>,\n",
              "  <tf.Tensor: shape=(), dtype=float32, numpy=326.00067>,\n",
              "  <tf.Tensor: shape=(), dtype=float32, numpy=440.02377>,\n",
              "  <tf.Tensor: shape=(), dtype=float32, numpy=976.02997>,\n",
              "  <tf.Tensor: shape=(), dtype=float32, numpy=2305.0012>,\n",
              "  <tf.Tensor: shape=(), dtype=float32, numpy=2425.0>,\n",
              "  <tf.Tensor: shape=(), dtype=float32, numpy=2460.002>,\n",
              "  <tf.Tensor: shape=(), dtype=float32, numpy=3360.004>],\n",
              " [<tf.Tensor: shape=(), dtype=float32, numpy=6.0006323>,\n",
              "  <tf.Tensor: shape=(), dtype=float32, numpy=6.029865>,\n",
              "  <tf.Tensor: shape=(), dtype=float32, numpy=147.00734>,\n",
              "  <tf.Tensor: shape=(), dtype=float32, numpy=330.0009>,\n",
              "  <tf.Tensor: shape=(), dtype=float32, numpy=444.0286>,\n",
              "  <tf.Tensor: shape=(), dtype=float32, numpy=980.032>,\n",
              "  <tf.Tensor: shape=(), dtype=float32, numpy=2301.0024>,\n",
              "  <tf.Tensor: shape=(), dtype=float32, numpy=2429.0002>,\n",
              "  <tf.Tensor: shape=(), dtype=float32, numpy=2464.003>,\n",
              "  <tf.Tensor: shape=(), dtype=float32, numpy=3388.0063>],\n",
              " [<tf.Tensor: shape=(), dtype=float32, numpy=221.13428>,\n",
              "  <tf.Tensor: shape=(), dtype=float32, numpy=315.14294>,\n",
              "  <tf.Tensor: shape=(), dtype=float32, numpy=421.7092>,\n",
              "  <tf.Tensor: shape=(), dtype=float32, numpy=442.20938>,\n",
              "  <tf.Tensor: shape=(), dtype=float32, numpy=480.7316>,\n",
              "  <tf.Tensor: shape=(), dtype=float32, numpy=480.74817>,\n",
              "  <tf.Tensor: shape=(), dtype=float32, numpy=502.76605>,\n",
              "  <tf.Tensor: shape=(), dtype=float32, numpy=590.0449>,\n",
              "  <tf.Tensor: shape=(), dtype=float32, numpy=643.0161>,\n",
              "  <tf.Tensor: shape=(), dtype=float32, numpy=696.6953>],\n",
              " [<tf.Tensor: shape=(), dtype=float32, numpy=108.72119>,\n",
              "  <tf.Tensor: shape=(), dtype=float32, numpy=147.00734>,\n",
              "  <tf.Tensor: shape=(), dtype=float32, numpy=150.68877>,\n",
              "  <tf.Tensor: shape=(), dtype=float32, numpy=150.71928>,\n",
              "  <tf.Tensor: shape=(), dtype=float32, numpy=472.69006>,\n",
              "  <tf.Tensor: shape=(), dtype=float32, numpy=1676.723>,\n",
              "  <tf.Tensor: shape=(), dtype=float32, numpy=2422.0125>,\n",
              "  <tf.Tensor: shape=(), dtype=float32, numpy=3099.6882>,\n",
              "  <tf.Tensor: shape=(), dtype=float32, numpy=3136.6936>,\n",
              "  <tf.Tensor: shape=(), dtype=float32, numpy=3498.2195>],\n",
              " [<tf.Tensor: shape=(), dtype=float32, numpy=652.0293>,\n",
              "  <tf.Tensor: shape=(), dtype=float32, numpy=976.0006>,\n",
              "  <tf.Tensor: shape=(), dtype=float32, numpy=976.02997>,\n",
              "  <tf.Tensor: shape=(), dtype=float32, numpy=980.032>,\n",
              "  <tf.Tensor: shape=(), dtype=float32, numpy=1676.723>,\n",
              "  <tf.Tensor: shape=(), dtype=float32, numpy=2202.0464>,\n",
              "  <tf.Tensor: shape=(), dtype=float32, numpy=2290.0283>,\n",
              "  <tf.Tensor: shape=(), dtype=float32, numpy=2387.0303>,\n",
              "  <tf.Tensor: shape=(), dtype=float32, numpy=2545.0288>,\n",
              "  <tf.Tensor: shape=(), dtype=float32, numpy=2662.028>],\n",
              " [<tf.Tensor: shape=(), dtype=float32, numpy=326.00067>,\n",
              "  <tf.Tensor: shape=(), dtype=float32, numpy=326.02863>,\n",
              "  <tf.Tensor: shape=(), dtype=float32, numpy=330.0009>,\n",
              "  <tf.Tensor: shape=(), dtype=float32, numpy=472.69006>,\n",
              "  <tf.Tensor: shape=(), dtype=float32, numpy=652.0293>,\n",
              "  <tf.Tensor: shape=(), dtype=float32, numpy=764.0242>,\n",
              "  <tf.Tensor: shape=(), dtype=float32, numpy=1981.0012>,\n",
              "  <tf.Tensor: shape=(), dtype=float32, numpy=2749.0005>,\n",
              "  <tf.Tensor: shape=(), dtype=float32, numpy=2784.0005>,\n",
              "  <tf.Tensor: shape=(), dtype=float32, numpy=3684.003>],\n",
              " [<tf.Tensor: shape=(), dtype=float32, numpy=11.000403>,\n",
              "  <tf.Tensor: shape=(), dtype=float32, numpy=11.016219>,\n",
              "  <tf.Tensor: shape=(), dtype=float32, numpy=11.024186>,\n",
              "  <tf.Tensor: shape=(), dtype=float32, numpy=21.03071>,\n",
              "  <tf.Tensor: shape=(), dtype=float32, numpy=107.00017>,\n",
              "  <tf.Tensor: shape=(), dtype=float32, numpy=129.24644>,\n",
              "  <tf.Tensor: shape=(), dtype=float32, numpy=145.02466>,\n",
              "  <tf.Tensor: shape=(), dtype=float32, numpy=158.25075>,\n",
              "  <tf.Tensor: shape=(), dtype=float32, numpy=210.04549>,\n",
              "  <tf.Tensor: shape=(), dtype=float32, numpy=283.22327>],\n",
              " [<tf.Tensor: shape=(), dtype=float32, numpy=0.016043043>,\n",
              "  <tf.Tensor: shape=(), dtype=float32, numpy=11.000403>,\n",
              "  <tf.Tensor: shape=(), dtype=float32, numpy=12.029312>,\n",
              "  <tf.Tensor: shape=(), dtype=float32, numpy=38.025955>,\n",
              "  <tf.Tensor: shape=(), dtype=float32, numpy=108.23051>,\n",
              "  <tf.Tensor: shape=(), dtype=float32, numpy=134.00046>,\n",
              "  <tf.Tensor: shape=(), dtype=float32, numpy=172.02647>,\n",
              "  <tf.Tensor: shape=(), dtype=float32, numpy=189.02136>,\n",
              "  <tf.Tensor: shape=(), dtype=float32, numpy=196.77133>,\n",
              "  <tf.Tensor: shape=(), dtype=float32, numpy=321.74457>],\n",
              " [<tf.Tensor: shape=(), dtype=float32, numpy=9033.145>,\n",
              "  <tf.Tensor: shape=(), dtype=float32, numpy=9033.207>,\n",
              "  <tf.Tensor: shape=(), dtype=float32, numpy=9077.243>,\n",
              "  <tf.Tensor: shape=(), dtype=float32, numpy=9220.37>,\n",
              "  <tf.Tensor: shape=(), dtype=float32, numpy=9371.089>,\n",
              "  <tf.Tensor: shape=(), dtype=float32, numpy=10077.207>,\n",
              "  <tf.Tensor: shape=(), dtype=float32, numpy=10551.119>,\n",
              "  <tf.Tensor: shape=(), dtype=float32, numpy=19489.172>,\n",
              "  <tf.Tensor: shape=(), dtype=float32, numpy=19550.219>,\n",
              "  <tf.Tensor: shape=(), dtype=float32, numpy=19885.123>],\n",
              " [<tf.Tensor: shape=(), dtype=float32, numpy=230.35616>,\n",
              "  <tf.Tensor: shape=(), dtype=float32, numpy=230.36589>,\n",
              "  <tf.Tensor: shape=(), dtype=float32, numpy=231.44286>,\n",
              "  <tf.Tensor: shape=(), dtype=float32, numpy=374.34344>,\n",
              "  <tf.Tensor: shape=(), dtype=float32, numpy=400.05267>,\n",
              "  <tf.Tensor: shape=(), dtype=float32, numpy=406.49945>,\n",
              "  <tf.Tensor: shape=(), dtype=float32, numpy=456.2664>,\n",
              "  <tf.Tensor: shape=(), dtype=float32, numpy=466.29105>,\n",
              "  <tf.Tensor: shape=(), dtype=float32, numpy=508.32364>,\n",
              "  <tf.Tensor: shape=(), dtype=float32, numpy=508.3429>],\n",
              " [<tf.Tensor: shape=(), dtype=float32, numpy=56.237423>,\n",
              "  <tf.Tensor: shape=(), dtype=float32, numpy=66.37217>,\n",
              "  <tf.Tensor: shape=(), dtype=float32, numpy=108.23051>,\n",
              "  <tf.Tensor: shape=(), dtype=float32, numpy=108.280075>,\n",
              "  <tf.Tensor: shape=(), dtype=float32, numpy=129.24644>,\n",
              "  <tf.Tensor: shape=(), dtype=float32, numpy=168.36311>,\n",
              "  <tf.Tensor: shape=(), dtype=float32, numpy=294.24564>,\n",
              "  <tf.Tensor: shape=(), dtype=float32, numpy=326.3653>,\n",
              "  <tf.Tensor: shape=(), dtype=float32, numpy=364.76672>,\n",
              "  <tf.Tensor: shape=(), dtype=float32, numpy=400.05267>],\n",
              " [<tf.Tensor: shape=(), dtype=float32, numpy=66.37217>,\n",
              "  <tf.Tensor: shape=(), dtype=float32, numpy=136.94902>,\n",
              "  <tf.Tensor: shape=(), dtype=float32, numpy=189.02136>,\n",
              "  <tf.Tensor: shape=(), dtype=float32, numpy=189.0519>,\n",
              "  <tf.Tensor: shape=(), dtype=float32, numpy=210.04549>,\n",
              "  <tf.Tensor: shape=(), dtype=float32, numpy=249.33838>,\n",
              "  <tf.Tensor: shape=(), dtype=float32, numpy=279.3446>,\n",
              "  <tf.Tensor: shape=(), dtype=float32, numpy=295.0492>,\n",
              "  <tf.Tensor: shape=(), dtype=float32, numpy=365.76187>,\n",
              "  <tf.Tensor: shape=(), dtype=float32, numpy=466.29105>],\n",
              " [<tf.Tensor: shape=(), dtype=float32, numpy=211.41275>,\n",
              "  <tf.Tensor: shape=(), dtype=float32, numpy=233.89249>,\n",
              "  <tf.Tensor: shape=(), dtype=float32, numpy=378.5022>,\n",
              "  <tf.Tensor: shape=(), dtype=float32, numpy=1476.2385>,\n",
              "  <tf.Tensor: shape=(), dtype=float32, numpy=1476.2959>,\n",
              "  <tf.Tensor: shape=(), dtype=float32, numpy=1496.2438>,\n",
              "  <tf.Tensor: shape=(), dtype=float32, numpy=1509.254>,\n",
              "  <tf.Tensor: shape=(), dtype=float32, numpy=1560.3715>,\n",
              "  <tf.Tensor: shape=(), dtype=float32, numpy=1598.0028>,\n",
              "  <tf.Tensor: shape=(), dtype=float32, numpy=1618.2542>],\n",
              " [<tf.Tensor: shape=(), dtype=float32, numpy=0.016043043>,\n",
              "  <tf.Tensor: shape=(), dtype=float32, numpy=11.016219>,\n",
              "  <tf.Tensor: shape=(), dtype=float32, numpy=12.044443>,\n",
              "  <tf.Tensor: shape=(), dtype=float32, numpy=38.04223>,\n",
              "  <tf.Tensor: shape=(), dtype=float32, numpy=108.280075>,\n",
              "  <tf.Tensor: shape=(), dtype=float32, numpy=134.01682>,\n",
              "  <tf.Tensor: shape=(), dtype=float32, numpy=172.04306>,\n",
              "  <tf.Tensor: shape=(), dtype=float32, numpy=189.0519>,\n",
              "  <tf.Tensor: shape=(), dtype=float32, numpy=196.7883>,\n",
              "  <tf.Tensor: shape=(), dtype=float32, numpy=321.76123>],\n",
              " [<tf.Tensor: shape=(), dtype=float32, numpy=108.72119>,\n",
              "  <tf.Tensor: shape=(), dtype=float32, numpy=440.02377>,\n",
              "  <tf.Tensor: shape=(), dtype=float32, numpy=440.04807>,\n",
              "  <tf.Tensor: shape=(), dtype=float32, numpy=444.0286>,\n",
              "  <tf.Tensor: shape=(), dtype=float32, numpy=764.0242>,\n",
              "  <tf.Tensor: shape=(), dtype=float32, numpy=2202.0464>,\n",
              "  <tf.Tensor: shape=(), dtype=float32, numpy=2629.0273>,\n",
              "  <tf.Tensor: shape=(), dtype=float32, numpy=3391.0444>,\n",
              "  <tf.Tensor: shape=(), dtype=float32, numpy=3423.2224>,\n",
              "  <tf.Tensor: shape=(), dtype=float32, numpy=3484.7651>],\n",
              " [<tf.Tensor: shape=(), dtype=float32, numpy=11.024186>,\n",
              "  <tf.Tensor: shape=(), dtype=float32, numpy=38.025955>,\n",
              "  <tf.Tensor: shape=(), dtype=float32, numpy=38.04223>,\n",
              "  <tf.Tensor: shape=(), dtype=float32, numpy=48.08703>,\n",
              "  <tf.Tensor: shape=(), dtype=float32, numpy=98.024>,\n",
              "  <tf.Tensor: shape=(), dtype=float32, numpy=136.00006>,\n",
              "  <tf.Tensor: shape=(), dtype=float32, numpy=137.69429>,\n",
              "  <tf.Tensor: shape=(), dtype=float32, numpy=168.36311>,\n",
              "  <tf.Tensor: shape=(), dtype=float32, numpy=249.33838>,\n",
              "  <tf.Tensor: shape=(), dtype=float32, numpy=262.6935>],\n",
              " [<tf.Tensor: shape=(), dtype=float32, numpy=56.1062>,\n",
              "  <tf.Tensor: shape=(), dtype=float32, numpy=221.13428>,\n",
              "  <tf.Tensor: shape=(), dtype=float32, numpy=379.0011>,\n",
              "  <tf.Tensor: shape=(), dtype=float32, numpy=389.0328>,\n",
              "  <tf.Tensor: shape=(), dtype=float32, numpy=389.04764>,\n",
              "  <tf.Tensor: shape=(), dtype=float32, numpy=406.03488>,\n",
              "  <tf.Tensor: shape=(), dtype=float32, numpy=422.03537>,\n",
              "  <tf.Tensor: shape=(), dtype=float32, numpy=455.2169>,\n",
              "  <tf.Tensor: shape=(), dtype=float32, numpy=473.09433>,\n",
              "  <tf.Tensor: shape=(), dtype=float32, numpy=771.0363>],\n",
              " [<tf.Tensor: shape=(), dtype=float32, numpy=12.029312>,\n",
              "  <tf.Tensor: shape=(), dtype=float32, numpy=12.044443>,\n",
              "  <tf.Tensor: shape=(), dtype=float32, numpy=21.03071>,\n",
              "  <tf.Tensor: shape=(), dtype=float32, numpy=48.08703>,\n",
              "  <tf.Tensor: shape=(), dtype=float32, numpy=56.237423>,\n",
              "  <tf.Tensor: shape=(), dtype=float32, numpy=136.94902>,\n",
              "  <tf.Tensor: shape=(), dtype=float32, numpy=156.0314>,\n",
              "  <tf.Tensor: shape=(), dtype=float32, numpy=194.0881>,\n",
              "  <tf.Tensor: shape=(), dtype=float32, numpy=218.85927>,\n",
              "  <tf.Tensor: shape=(), dtype=float32, numpy=343.77768>],\n",
              " [<tf.Tensor: shape=(), dtype=float32, numpy=226.20367>,\n",
              "  <tf.Tensor: shape=(), dtype=float32, numpy=406.03488>,\n",
              "  <tf.Tensor: shape=(), dtype=float32, numpy=522.00806>,\n",
              "  <tf.Tensor: shape=(), dtype=float32, numpy=553.29926>,\n",
              "  <tf.Tensor: shape=(), dtype=float32, numpy=614.02295>,\n",
              "  <tf.Tensor: shape=(), dtype=float32, numpy=615.00946>,\n",
              "  <tf.Tensor: shape=(), dtype=float32, numpy=619.00806>,\n",
              "  <tf.Tensor: shape=(), dtype=float32, numpy=731.00525>,\n",
              "  <tf.Tensor: shape=(), dtype=float32, numpy=731.00635>,\n",
              "  <tf.Tensor: shape=(), dtype=float32, numpy=733.0046>],\n",
              " [<tf.Tensor: shape=(), dtype=float32, numpy=716.0673>,\n",
              "  <tf.Tensor: shape=(), dtype=float32, numpy=717.0067>,\n",
              "  <tf.Tensor: shape=(), dtype=float32, numpy=876.20715>,\n",
              "  <tf.Tensor: shape=(), dtype=float32, numpy=885.0636>,\n",
              "  <tf.Tensor: shape=(), dtype=float32, numpy=988.0421>,\n",
              "  <tf.Tensor: shape=(), dtype=float32, numpy=1047.0883>,\n",
              "  <tf.Tensor: shape=(), dtype=float32, numpy=1047.2119>,\n",
              "  <tf.Tensor: shape=(), dtype=float32, numpy=1047.6843>,\n",
              "  <tf.Tensor: shape=(), dtype=float32, numpy=1081.0927>,\n",
              "  <tf.Tensor: shape=(), dtype=float32, numpy=2461.0972>],\n",
              " [<tf.Tensor: shape=(), dtype=float32, numpy=701.5813>,\n",
              "  <tf.Tensor: shape=(), dtype=float32, numpy=924.1753>,\n",
              "  <tf.Tensor: shape=(), dtype=float32, numpy=2176.157>,\n",
              "  <tf.Tensor: shape=(), dtype=float32, numpy=2247.0752>,\n",
              "  <tf.Tensor: shape=(), dtype=float32, numpy=2247.1616>,\n",
              "  <tf.Tensor: shape=(), dtype=float32, numpy=2247.634>,\n",
              "  <tf.Tensor: shape=(), dtype=float32, numpy=2415.0027>,\n",
              "  <tf.Tensor: shape=(), dtype=float32, numpy=2416.0652>,\n",
              "  <tf.Tensor: shape=(), dtype=float32, numpy=2502.0042>,\n",
              "  <tf.Tensor: shape=(), dtype=float32, numpy=2585.0718>],\n",
              " [<tf.Tensor: shape=(), dtype=float32, numpy=3.0317924>,\n",
              "  <tf.Tensor: shape=(), dtype=float32, numpy=6.0002174>,\n",
              "  <tf.Tensor: shape=(), dtype=float32, numpy=126.00047>,\n",
              "  <tf.Tensor: shape=(), dtype=float32, numpy=134.02295>,\n",
              "  <tf.Tensor: shape=(), dtype=float32, numpy=230.36589>,\n",
              "  <tf.Tensor: shape=(), dtype=float32, numpy=392.02283>,\n",
              "  <tf.Tensor: shape=(), dtype=float32, numpy=403.00073>,\n",
              "  <tf.Tensor: shape=(), dtype=float32, numpy=430.00183>,\n",
              "  <tf.Tensor: shape=(), dtype=float32, numpy=430.01825>,\n",
              "  <tf.Tensor: shape=(), dtype=float32, numpy=452.03427>],\n",
              " [<tf.Tensor: shape=(), dtype=float32, numpy=950.0001>,\n",
              "  <tf.Tensor: shape=(), dtype=float32, numpy=985.0019>,\n",
              "  <tf.Tensor: shape=(), dtype=float32, numpy=1231.0009>,\n",
              "  <tf.Tensor: shape=(), dtype=float32, numpy=1299.001>,\n",
              "  <tf.Tensor: shape=(), dtype=float32, numpy=1300.0314>,\n",
              "  <tf.Tensor: shape=(), dtype=float32, numpy=1453.3331>,\n",
              "  <tf.Tensor: shape=(), dtype=float32, numpy=1544.0546>,\n",
              "  <tf.Tensor: shape=(), dtype=float32, numpy=1545.1227>,\n",
              "  <tf.Tensor: shape=(), dtype=float32, numpy=1713.034>,\n",
              "  <tf.Tensor: shape=(), dtype=float32, numpy=1875.0898>],\n",
              " [<tf.Tensor: shape=(), dtype=float32, numpy=3.0317924>,\n",
              "  <tf.Tensor: shape=(), dtype=float32, numpy=5.031927>,\n",
              "  <tf.Tensor: shape=(), dtype=float32, numpy=125.03138>,\n",
              "  <tf.Tensor: shape=(), dtype=float32, numpy=135.02435>,\n",
              "  <tf.Tensor: shape=(), dtype=float32, numpy=231.44286>,\n",
              "  <tf.Tensor: shape=(), dtype=float32, numpy=395.0239>,\n",
              "  <tf.Tensor: shape=(), dtype=float32, numpy=404.03125>,\n",
              "  <tf.Tensor: shape=(), dtype=float32, numpy=431.01642>,\n",
              "  <tf.Tensor: shape=(), dtype=float32, numpy=431.0318>,\n",
              "  <tf.Tensor: shape=(), dtype=float32, numpy=453.06238>],\n",
              " [<tf.Tensor: shape=(), dtype=float32, numpy=29.028091>,\n",
              "  <tf.Tensor: shape=(), dtype=float32, numpy=137.69429>,\n",
              "  <tf.Tensor: shape=(), dtype=float32, numpy=158.25075>,\n",
              "  <tf.Tensor: shape=(), dtype=float32, numpy=196.77133>,\n",
              "  <tf.Tensor: shape=(), dtype=float32, numpy=196.7883>,\n",
              "  <tf.Tensor: shape=(), dtype=float32, numpy=218.85927>,\n",
              "  <tf.Tensor: shape=(), dtype=float32, numpy=331.73016>,\n",
              "  <tf.Tensor: shape=(), dtype=float32, numpy=341.69427>,\n",
              "  <tf.Tensor: shape=(), dtype=float32, numpy=364.76672>,\n",
              "  <tf.Tensor: shape=(), dtype=float32, numpy=365.76187>],\n",
              " [<tf.Tensor: shape=(), dtype=float32, numpy=522.00806>,\n",
              "  <tf.Tensor: shape=(), dtype=float32, numpy=746.18884>,\n",
              "  <tf.Tensor: shape=(), dtype=float32, numpy=861.0012>,\n",
              "  <tf.Tensor: shape=(), dtype=float32, numpy=898.0015>,\n",
              "  <tf.Tensor: shape=(), dtype=float32, numpy=926.03284>,\n",
              "  <tf.Tensor: shape=(), dtype=float32, numpy=1263.7341>,\n",
              "  <tf.Tensor: shape=(), dtype=float32, numpy=1497.002>,\n",
              "  <tf.Tensor: shape=(), dtype=float32, numpy=1693.0312>,\n",
              "  <tf.Tensor: shape=(), dtype=float32, numpy=1711.0847>,\n",
              "  <tf.Tensor: shape=(), dtype=float32, numpy=1711.4375>],\n",
              " [<tf.Tensor: shape=(), dtype=float32, numpy=3.6948404>,\n",
              "  <tf.Tensor: shape=(), dtype=float32, numpy=32.693882>,\n",
              "  <tf.Tensor: shape=(), dtype=float32, numpy=134.0004>,\n",
              "  <tf.Tensor: shape=(), dtype=float32, numpy=143.02591>,\n",
              "  <tf.Tensor: shape=(), dtype=float32, numpy=170.02802>,\n",
              "  <tf.Tensor: shape=(), dtype=float32, numpy=170.04489>,\n",
              "  <tf.Tensor: shape=(), dtype=float32, numpy=192.09058>,\n",
              "  <tf.Tensor: shape=(), dtype=float32, numpy=328.0253>,\n",
              "  <tf.Tensor: shape=(), dtype=float32, numpy=330.37347>,\n",
              "  <tf.Tensor: shape=(), dtype=float32, numpy=331.3601>],\n",
              " [<tf.Tensor: shape=(), dtype=float32, numpy=693.0995>,\n",
              "  <tf.Tensor: shape=(), dtype=float32, numpy=730.10583>,\n",
              "  <tf.Tensor: shape=(), dtype=float32, numpy=940.0648>,\n",
              "  <tf.Tensor: shape=(), dtype=float32, numpy=941.0042>,\n",
              "  <tf.Tensor: shape=(), dtype=float32, numpy=1109.0662>,\n",
              "  <tf.Tensor: shape=(), dtype=float32, numpy=1251.097>,\n",
              "  <tf.Tensor: shape=(), dtype=float32, numpy=1251.2206>,\n",
              "  <tf.Tensor: shape=(), dtype=float32, numpy=1251.6931>,\n",
              "  <tf.Tensor: shape=(), dtype=float32, numpy=1305.0951>,\n",
              "  <tf.Tensor: shape=(), dtype=float32, numpy=1498.0979>],\n",
              " [<tf.Tensor: shape=(), dtype=float32, numpy=663.5846>,\n",
              "  <tf.Tensor: shape=(), dtype=float32, numpy=1155.2567>,\n",
              "  <tf.Tensor: shape=(), dtype=float32, numpy=1587.4042>,\n",
              "  <tf.Tensor: shape=(), dtype=float32, numpy=1720.0153>,\n",
              "  <tf.Tensor: shape=(), dtype=float32, numpy=1875.4696>,\n",
              "  <tf.Tensor: shape=(), dtype=float32, numpy=2115.802>,\n",
              "  <tf.Tensor: shape=(), dtype=float32, numpy=2116.4763>,\n",
              "  <tf.Tensor: shape=(), dtype=float32, numpy=2646.1187>,\n",
              "  <tf.Tensor: shape=(), dtype=float32, numpy=2646.2573>,\n",
              "  <tf.Tensor: shape=(), dtype=float32, numpy=2646.7266>],\n",
              " [<tf.Tensor: shape=(), dtype=float32, numpy=367.5398>,\n",
              "  <tf.Tensor: shape=(), dtype=float32, numpy=643.57056>,\n",
              "  <tf.Tensor: shape=(), dtype=float32, numpy=1043.888>,\n",
              "  <tf.Tensor: shape=(), dtype=float32, numpy=1044.5684>,\n",
              "  <tf.Tensor: shape=(), dtype=float32, numpy=1732.934>,\n",
              "  <tf.Tensor: shape=(), dtype=float32, numpy=1849.5151>,\n",
              "  <tf.Tensor: shape=(), dtype=float32, numpy=1849.543>,\n",
              "  <tf.Tensor: shape=(), dtype=float32, numpy=1849.8481>,\n",
              "  <tf.Tensor: shape=(), dtype=float32, numpy=1928.9722>,\n",
              "  <tf.Tensor: shape=(), dtype=float32, numpy=1935.5996>],\n",
              " [<tf.Tensor: shape=(), dtype=float32, numpy=453.29422>,\n",
              "  <tf.Tensor: shape=(), dtype=float32, numpy=496.67108>,\n",
              "  <tf.Tensor: shape=(), dtype=float32, numpy=701.65985>,\n",
              "  <tf.Tensor: shape=(), dtype=float32, numpy=743.6855>,\n",
              "  <tf.Tensor: shape=(), dtype=float32, numpy=769.315>,\n",
              "  <tf.Tensor: shape=(), dtype=float32, numpy=769.34265>,\n",
              "  <tf.Tensor: shape=(), dtype=float32, numpy=769.57153>,\n",
              "  <tf.Tensor: shape=(), dtype=float32, numpy=785.69073>,\n",
              "  <tf.Tensor: shape=(), dtype=float32, numpy=786.6757>,\n",
              "  <tf.Tensor: shape=(), dtype=float32, numpy=786.90027>],\n",
              " [<tf.Tensor: shape=(), dtype=float32, numpy=786.02136>,\n",
              "  <tf.Tensor: shape=(), dtype=float32, numpy=991.02155>,\n",
              "  <tf.Tensor: shape=(), dtype=float32, numpy=1028.0331>,\n",
              "  <tf.Tensor: shape=(), dtype=float32, numpy=1274.0305>,\n",
              "  <tf.Tensor: shape=(), dtype=float32, numpy=1431.0394>,\n",
              "  <tf.Tensor: shape=(), dtype=float32, numpy=1537.0607>,\n",
              "  <tf.Tensor: shape=(), dtype=float32, numpy=1537.3348>,\n",
              "  <tf.Tensor: shape=(), dtype=float32, numpy=1538.1686>,\n",
              "  <tf.Tensor: shape=(), dtype=float32, numpy=1626.0289>,\n",
              "  <tf.Tensor: shape=(), dtype=float32, numpy=1627.0149>],\n",
              " [<tf.Tensor: shape=(), dtype=float32, numpy=359.034>,\n",
              "  <tf.Tensor: shape=(), dtype=float32, numpy=483.01236>,\n",
              "  <tf.Tensor: shape=(), dtype=float32, numpy=483.0365>,\n",
              "  <tf.Tensor: shape=(), dtype=float32, numpy=487.01666>,\n",
              "  <tf.Tensor: shape=(), dtype=float32, numpy=807.01154>,\n",
              "  <tf.Tensor: shape=(), dtype=float32, numpy=1135.7101>,\n",
              "  <tf.Tensor: shape=(), dtype=float32, numpy=1687.0358>,\n",
              "  <tf.Tensor: shape=(), dtype=float32, numpy=1943.0083>,\n",
              "  <tf.Tensor: shape=(), dtype=float32, numpy=1980.0135>,\n",
              "  <tf.Tensor: shape=(), dtype=float32, numpy=2555.005>],\n",
              " [<tf.Tensor: shape=(), dtype=float32, numpy=516.0358>,\n",
              "  <tf.Tensor: shape=(), dtype=float32, numpy=716.14984>,\n",
              "  <tf.Tensor: shape=(), dtype=float32, numpy=717.0786>,\n",
              "  <tf.Tensor: shape=(), dtype=float32, numpy=794.0803>,\n",
              "  <tf.Tensor: shape=(), dtype=float32, numpy=1093.2036>,\n",
              "  <tf.Tensor: shape=(), dtype=float32, numpy=1157.0431>,\n",
              "  <tf.Tensor: shape=(), dtype=float32, numpy=1157.1172>,\n",
              "  <tf.Tensor: shape=(), dtype=float32, numpy=1157.5154>,\n",
              "  <tf.Tensor: shape=(), dtype=float32, numpy=1345.2433>,\n",
              "  <tf.Tensor: shape=(), dtype=float32, numpy=1616.1177>],\n",
              " [<tf.Tensor: shape=(), dtype=float32, numpy=468.15732>,\n",
              "  <tf.Tensor: shape=(), dtype=float32, numpy=471.8733>,\n",
              "  <tf.Tensor: shape=(), dtype=float32, numpy=718.9169>,\n",
              "  <tf.Tensor: shape=(), dtype=float32, numpy=760.9323>,\n",
              "  <tf.Tensor: shape=(), dtype=float32, numpy=761.99524>,\n",
              "  <tf.Tensor: shape=(), dtype=float32, numpy=916.8354>,\n",
              "  <tf.Tensor: shape=(), dtype=float32, numpy=984.163>,\n",
              "  <tf.Tensor: shape=(), dtype=float32, numpy=984.48804>,\n",
              "  <tf.Tensor: shape=(), dtype=float32, numpy=984.6352>,\n",
              "  <tf.Tensor: shape=(), dtype=float32, numpy=1001.88763>],\n",
              " [<tf.Tensor: shape=(), dtype=float32, numpy=42.2769>,\n",
              "  <tf.Tensor: shape=(), dtype=float32, numpy=51.28193>,\n",
              "  <tf.Tensor: shape=(), dtype=float32, numpy=67.98273>,\n",
              "  <tf.Tensor: shape=(), dtype=float32, numpy=78.26563>,\n",
              "  <tf.Tensor: shape=(), dtype=float32, numpy=78.2816>,\n",
              "  <tf.Tensor: shape=(), dtype=float32, numpy=98.30988>,\n",
              "  <tf.Tensor: shape=(), dtype=float32, numpy=118.28247>,\n",
              "  <tf.Tensor: shape=(), dtype=float32, numpy=126.27772>,\n",
              "  <tf.Tensor: shape=(), dtype=float32, numpy=167.9558>,\n",
              "  <tf.Tensor: shape=(), dtype=float32, numpy=236.60541>],\n",
              " [<tf.Tensor: shape=(), dtype=float32, numpy=1830.0543>,\n",
              "  <tf.Tensor: shape=(), dtype=float32, numpy=1831.112>,\n",
              "  <tf.Tensor: shape=(), dtype=float32, numpy=2079.089>,\n",
              "  <tf.Tensor: shape=(), dtype=float32, numpy=2116.1091>,\n",
              "  <tf.Tensor: shape=(), dtype=float32, numpy=2270.1387>,\n",
              "  <tf.Tensor: shape=(), dtype=float32, numpy=2519.0908>,\n",
              "  <tf.Tensor: shape=(), dtype=float32, numpy=2534.2244>,\n",
              "  <tf.Tensor: shape=(), dtype=float32, numpy=2715.071>,\n",
              "  <tf.Tensor: shape=(), dtype=float32, numpy=2761.055>,\n",
              "  <tf.Tensor: shape=(), dtype=float32, numpy=2761.2368>],\n",
              " [<tf.Tensor: shape=(), dtype=float32, numpy=786.0051>,\n",
              "  <tf.Tensor: shape=(), dtype=float32, numpy=991.0059>,\n",
              "  <tf.Tensor: shape=(), dtype=float32, numpy=1028.0115>,\n",
              "  <tf.Tensor: shape=(), dtype=float32, numpy=1274.0177>,\n",
              "  <tf.Tensor: shape=(), dtype=float32, numpy=1431.0325>,\n",
              "  <tf.Tensor: shape=(), dtype=float32, numpy=1537.0828>,\n",
              "  <tf.Tensor: shape=(), dtype=float32, numpy=1537.409>,\n",
              "  <tf.Tensor: shape=(), dtype=float32, numpy=1538.2428>,\n",
              "  <tf.Tensor: shape=(), dtype=float32, numpy=1626.0365>,\n",
              "  <tf.Tensor: shape=(), dtype=float32, numpy=1627.005>],\n",
              " [<tf.Tensor: shape=(), dtype=float32, numpy=35.15883>,\n",
              "  <tf.Tensor: shape=(), dtype=float32, numpy=267.234>,\n",
              "  <tf.Tensor: shape=(), dtype=float32, numpy=342.1467>,\n",
              "  <tf.Tensor: shape=(), dtype=float32, numpy=352.94836>,\n",
              "  <tf.Tensor: shape=(), dtype=float32, numpy=1497.1296>,\n",
              "  <tf.Tensor: shape=(), dtype=float32, numpy=1497.2164>,\n",
              "  <tf.Tensor: shape=(), dtype=float32, numpy=1517.2072>,\n",
              "  <tf.Tensor: shape=(), dtype=float32, numpy=1530.1366>,\n",
              "  <tf.Tensor: shape=(), dtype=float32, numpy=1581.1447>,\n",
              "  <tf.Tensor: shape=(), dtype=float32, numpy=1623.1666>],\n",
              " [<tf.Tensor: shape=(), dtype=float32, numpy=35.06594>,\n",
              "  <tf.Tensor: shape=(), dtype=float32, numpy=267.35696>,\n",
              "  <tf.Tensor: shape=(), dtype=float32, numpy=342.26904>,\n",
              "  <tf.Tensor: shape=(), dtype=float32, numpy=352.98026>,\n",
              "  <tf.Tensor: shape=(), dtype=float32, numpy=1497.181>,\n",
              "  <tf.Tensor: shape=(), dtype=float32, numpy=1497.2539>,\n",
              "  <tf.Tensor: shape=(), dtype=float32, numpy=1517.2549>,\n",
              "  <tf.Tensor: shape=(), dtype=float32, numpy=1530.1896>,\n",
              "  <tf.Tensor: shape=(), dtype=float32, numpy=1581.2644>,\n",
              "  <tf.Tensor: shape=(), dtype=float32, numpy=1623.0712>],\n",
              " [<tf.Tensor: shape=(), dtype=float32, numpy=110.21165>,\n",
              "  <tf.Tensor: shape=(), dtype=float32, numpy=184.20721>,\n",
              "  <tf.Tensor: shape=(), dtype=float32, numpy=194.143>,\n",
              "  <tf.Tensor: shape=(), dtype=float32, numpy=201.20505>,\n",
              "  <tf.Tensor: shape=(), dtype=float32, numpy=1478.1927>,\n",
              "  <tf.Tensor: shape=(), dtype=float32, numpy=1520.2051>,\n",
              "  <tf.Tensor: shape=(), dtype=float32, numpy=1541.1996>,\n",
              "  <tf.Tensor: shape=(), dtype=float32, numpy=1553.227>,\n",
              "  <tf.Tensor: shape=(), dtype=float32, numpy=1580.1931>,\n",
              "  <tf.Tensor: shape=(), dtype=float32, numpy=1580.3063>],\n",
              " [<tf.Tensor: shape=(), dtype=float32, numpy=35.236748>,\n",
              "  <tf.Tensor: shape=(), dtype=float32, numpy=267.28076>,\n",
              "  <tf.Tensor: shape=(), dtype=float32, numpy=342.19482>,\n",
              "  <tf.Tensor: shape=(), dtype=float32, numpy=353.03842>,\n",
              "  <tf.Tensor: shape=(), dtype=float32, numpy=1497.1259>,\n",
              "  <tf.Tensor: shape=(), dtype=float32, numpy=1497.1976>,\n",
              "  <tf.Tensor: shape=(), dtype=float32, numpy=1517.1908>,\n",
              "  <tf.Tensor: shape=(), dtype=float32, numpy=1530.1233>,\n",
              "  <tf.Tensor: shape=(), dtype=float32, numpy=1581.1896>,\n",
              "  <tf.Tensor: shape=(), dtype=float32, numpy=1623.2413>],\n",
              " [<tf.Tensor: shape=(), dtype=float32, numpy=35.01804>,\n",
              "  <tf.Tensor: shape=(), dtype=float32, numpy=267.40692>,\n",
              "  <tf.Tensor: shape=(), dtype=float32, numpy=342.31744>,\n",
              "  <tf.Tensor: shape=(), dtype=float32, numpy=352.76312>,\n",
              "  <tf.Tensor: shape=(), dtype=float32, numpy=1497.1804>,\n",
              "  <tf.Tensor: shape=(), dtype=float32, numpy=1497.2172>,\n",
              "  <tf.Tensor: shape=(), dtype=float32, numpy=1517.2163>,\n",
              "  <tf.Tensor: shape=(), dtype=float32, numpy=1530.1931>,\n",
              "  <tf.Tensor: shape=(), dtype=float32, numpy=1581.2924>,\n",
              "  <tf.Tensor: shape=(), dtype=float32, numpy=1623.0172>],\n",
              " [<tf.Tensor: shape=(), dtype=float32, numpy=39.273235>,\n",
              "  <tf.Tensor: shape=(), dtype=float32, numpy=101.82492>,\n",
              "  <tf.Tensor: shape=(), dtype=float32, numpy=103.14342>,\n",
              "  <tf.Tensor: shape=(), dtype=float32, numpy=153.79553>,\n",
              "  <tf.Tensor: shape=(), dtype=float32, numpy=153.86714>,\n",
              "  <tf.Tensor: shape=(), dtype=float32, numpy=186.81192>,\n",
              "  <tf.Tensor: shape=(), dtype=float32, numpy=238.0438>,\n",
              "  <tf.Tensor: shape=(), dtype=float32, numpy=340.1143>,\n",
              "  <tf.Tensor: shape=(), dtype=float32, numpy=415.12854>,\n",
              "  <tf.Tensor: shape=(), dtype=float32, numpy=441.81305>],\n",
              " [<tf.Tensor: shape=(), dtype=float32, numpy=39.28113>,\n",
              "  <tf.Tensor: shape=(), dtype=float32, numpy=101.81066>,\n",
              "  <tf.Tensor: shape=(), dtype=float32, numpy=103.10049>,\n",
              "  <tf.Tensor: shape=(), dtype=float32, numpy=153.78616>,\n",
              "  <tf.Tensor: shape=(), dtype=float32, numpy=153.8201>,\n",
              "  <tf.Tensor: shape=(), dtype=float32, numpy=186.8031>,\n",
              "  <tf.Tensor: shape=(), dtype=float32, numpy=238.03886>,\n",
              "  <tf.Tensor: shape=(), dtype=float32, numpy=340.1098>,\n",
              "  <tf.Tensor: shape=(), dtype=float32, numpy=415.12415>,\n",
              "  <tf.Tensor: shape=(), dtype=float32, numpy=441.80588>],\n",
              " [<tf.Tensor: shape=(), dtype=float32, numpy=57.223274>,\n",
              "  <tf.Tensor: shape=(), dtype=float32, numpy=57.292885>,\n",
              "  <tf.Tensor: shape=(), dtype=float32, numpy=77.26128>,\n",
              "  <tf.Tensor: shape=(), dtype=float32, numpy=90.23696>,\n",
              "  <tf.Tensor: shape=(), dtype=float32, numpy=141.33556>,\n",
              "  <tf.Tensor: shape=(), dtype=float32, numpy=183.0168>,\n",
              "  <tf.Tensor: shape=(), dtype=float32, numpy=195.40842>,\n",
              "  <tf.Tensor: shape=(), dtype=float32, numpy=247.45152>,\n",
              "  <tf.Tensor: shape=(), dtype=float32, numpy=270.42078>,\n",
              "  <tf.Tensor: shape=(), dtype=float32, numpy=297.23624>],\n",
              " [<tf.Tensor: shape=(), dtype=float32, numpy=57.230995>,\n",
              "  <tf.Tensor: shape=(), dtype=float32, numpy=57.26602>,\n",
              "  <tf.Tensor: shape=(), dtype=float32, numpy=77.26236>,\n",
              "  <tf.Tensor: shape=(), dtype=float32, numpy=90.24655>,\n",
              "  <tf.Tensor: shape=(), dtype=float32, numpy=141.35136>,\n",
              "  <tf.Tensor: shape=(), dtype=float32, numpy=183.01329>,\n",
              "  <tf.Tensor: shape=(), dtype=float32, numpy=195.42278>,\n",
              "  <tf.Tensor: shape=(), dtype=float32, numpy=247.3841>,\n",
              "  <tf.Tensor: shape=(), dtype=float32, numpy=270.4364>,\n",
              "  <tf.Tensor: shape=(), dtype=float32, numpy=297.24738>],\n",
              " [<tf.Tensor: shape=(), dtype=float32, numpy=39.268948>,\n",
              "  <tf.Tensor: shape=(), dtype=float32, numpy=101.84166>,\n",
              "  <tf.Tensor: shape=(), dtype=float32, numpy=103.08856>,\n",
              "  <tf.Tensor: shape=(), dtype=float32, numpy=153.84262>,\n",
              "  <tf.Tensor: shape=(), dtype=float32, numpy=153.91336>,\n",
              "  <tf.Tensor: shape=(), dtype=float32, numpy=186.86188>,\n",
              "  <tf.Tensor: shape=(), dtype=float32, numpy=238.11183>,\n",
              "  <tf.Tensor: shape=(), dtype=float32, numpy=340.19174>,\n",
              "  <tf.Tensor: shape=(), dtype=float32, numpy=415.1808>,\n",
              "  <tf.Tensor: shape=(), dtype=float32, numpy=441.86218>],\n",
              " [<tf.Tensor: shape=(), dtype=float32, numpy=39.313904>,\n",
              "  <tf.Tensor: shape=(), dtype=float32, numpy=101.9315>,\n",
              "  <tf.Tensor: shape=(), dtype=float32, numpy=103.03238>,\n",
              "  <tf.Tensor: shape=(), dtype=float32, numpy=153.94357>,\n",
              "  <tf.Tensor: shape=(), dtype=float32, numpy=153.97527>,\n",
              "  <tf.Tensor: shape=(), dtype=float32, numpy=186.96712>,\n",
              "  <tf.Tensor: shape=(), dtype=float32, numpy=238.22842>,\n",
              "  <tf.Tensor: shape=(), dtype=float32, numpy=340.30377>,\n",
              "  <tf.Tensor: shape=(), dtype=float32, numpy=415.29605>,\n",
              "  <tf.Tensor: shape=(), dtype=float32, numpy=441.96924>],\n",
              " [<tf.Tensor: shape=(), dtype=float32, numpy=5.0002627>,\n",
              "  <tf.Tensor: shape=(), dtype=float32, numpy=5.0003767>,\n",
              "  <tf.Tensor: shape=(), dtype=float32, numpy=6.032767>,\n",
              "  <tf.Tensor: shape=(), dtype=float32, numpy=149.00122>,\n",
              "  <tf.Tensor: shape=(), dtype=float32, numpy=157.02275>,\n",
              "  <tf.Tensor: shape=(), dtype=float32, numpy=229.37648>,\n",
              "  <tf.Tensor: shape=(), dtype=float32, numpy=433.0229>,\n",
              "  <tf.Tensor: shape=(), dtype=float32, numpy=442.00183>,\n",
              "  <tf.Tensor: shape=(), dtype=float32, numpy=469.00314>,\n",
              "  <tf.Tensor: shape=(), dtype=float32, numpy=469.0201>],\n",
              " [<tf.Tensor: shape=(), dtype=float32, numpy=201.00125>,\n",
              "  <tf.Tensor: shape=(), dtype=float32, numpy=209.02261>,\n",
              "  <tf.Tensor: shape=(), dtype=float32, numpy=293.02264>,\n",
              "  <tf.Tensor: shape=(), dtype=float32, numpy=302.00165>,\n",
              "  <tf.Tensor: shape=(), dtype=float32, numpy=321.00018>,\n",
              "  <tf.Tensor: shape=(), dtype=float32, numpy=322.0326>,\n",
              "  <tf.Tensor: shape=(), dtype=float32, numpy=329.00317>,\n",
              "  <tf.Tensor: shape=(), dtype=float32, numpy=329.01978>,\n",
              "  <tf.Tensor: shape=(), dtype=float32, numpy=345.00055>,\n",
              "  <tf.Tensor: shape=(), dtype=float32, numpy=351.03662>],\n",
              " [<tf.Tensor: shape=(), dtype=float32, numpy=7.702588>,\n",
              "  <tf.Tensor: shape=(), dtype=float32, numpy=17.697565>,\n",
              "  <tf.Tensor: shape=(), dtype=float32, numpy=137.69522>,\n",
              "  <tf.Tensor: shape=(), dtype=float32, numpy=138.72891>,\n",
              "  <tf.Tensor: shape=(), dtype=float32, numpy=139.70291>,\n",
              "  <tf.Tensor: shape=(), dtype=float32, numpy=160.21817>,\n",
              "  <tf.Tensor: shape=(), dtype=float32, numpy=161.696>,\n",
              "  <tf.Tensor: shape=(), dtype=float32, numpy=198.74075>,\n",
              "  <tf.Tensor: shape=(), dtype=float32, numpy=198.75764>,\n",
              "  <tf.Tensor: shape=(), dtype=float32, numpy=220.80417>],\n",
              " [<tf.Tensor: shape=(), dtype=float32, numpy=8.686714>,\n",
              "  <tf.Tensor: shape=(), dtype=float32, numpy=16.711966>,\n",
              "  <tf.Tensor: shape=(), dtype=float32, numpy=137.71231>,\n",
              "  <tf.Tensor: shape=(), dtype=float32, numpy=138.71016>,\n",
              "  <tf.Tensor: shape=(), dtype=float32, numpy=140.68707>,\n",
              "  <tf.Tensor: shape=(), dtype=float32, numpy=160.71053>,\n",
              "  <tf.Tensor: shape=(), dtype=float32, numpy=161.23274>,\n",
              "  <tf.Tensor: shape=(), dtype=float32, numpy=199.75476>,\n",
              "  <tf.Tensor: shape=(), dtype=float32, numpy=199.77194>,\n",
              "  <tf.Tensor: shape=(), dtype=float32, numpy=221.81766>],\n",
              " [<tf.Tensor: shape=(), dtype=float32, numpy=13.000036>,\n",
              "  <tf.Tensor: shape=(), dtype=float32, numpy=399.50674>,\n",
              "  <tf.Tensor: shape=(), dtype=float32, numpy=561.68646>,\n",
              "  <tf.Tensor: shape=(), dtype=float32, numpy=568.68225>,\n",
              "  <tf.Tensor: shape=(), dtype=float32, numpy=1382.0294>,\n",
              "  <tf.Tensor: shape=(), dtype=float32, numpy=1407.0032>,\n",
              "  <tf.Tensor: shape=(), dtype=float32, numpy=1670.6946>,\n",
              "  <tf.Tensor: shape=(), dtype=float32, numpy=1691.2552>,\n",
              "  <tf.Tensor: shape=(), dtype=float32, numpy=1729.778>,\n",
              "  <tf.Tensor: shape=(), dtype=float32, numpy=1729.7949>],\n",
              " [<tf.Tensor: shape=(), dtype=float32, numpy=6.8923836>,\n",
              "  <tf.Tensor: shape=(), dtype=float32, numpy=16.912802>,\n",
              "  <tf.Tensor: shape=(), dtype=float32, numpy=100.9131>,\n",
              "  <tf.Tensor: shape=(), dtype=float32, numpy=120.09315>,\n",
              "  <tf.Tensor: shape=(), dtype=float32, numpy=127.924>,\n",
              "  <tf.Tensor: shape=(), dtype=float32, numpy=128.89085>,\n",
              "  <tf.Tensor: shape=(), dtype=float32, numpy=150.8911>,\n",
              "  <tf.Tensor: shape=(), dtype=float32, numpy=157.29492>,\n",
              "  <tf.Tensor: shape=(), dtype=float32, numpy=157.3121>,\n",
              "  <tf.Tensor: shape=(), dtype=float32, numpy=179.32962>],\n",
              " [<tf.Tensor: shape=(), dtype=float32, numpy=580.00714>,\n",
              "  <tf.Tensor: shape=(), dtype=float32, numpy=685.0337>,\n",
              "  <tf.Tensor: shape=(), dtype=float32, numpy=725.0004>,\n",
              "  <tf.Tensor: shape=(), dtype=float32, numpy=729.0022>,\n",
              "  <tf.Tensor: shape=(), dtype=float32, numpy=729.0322>,\n",
              "  <tf.Tensor: shape=(), dtype=float32, numpy=1917.0021>,\n",
              "  <tf.Tensor: shape=(), dtype=float32, numpy=3119.0347>,\n",
              "  <tf.Tensor: shape=(), dtype=float32, numpy=3369.0012>,\n",
              "  <tf.Tensor: shape=(), dtype=float32, numpy=3377.0225>,\n",
              "  <tf.Tensor: shape=(), dtype=float32, numpy=3461.0227>],\n",
              " [<tf.Tensor: shape=(), dtype=float32, numpy=757.0014>,\n",
              "  <tf.Tensor: shape=(), dtype=float32, numpy=1028.0632>,\n",
              "  <tf.Tensor: shape=(), dtype=float32, numpy=1058.0952>,\n",
              "  <tf.Tensor: shape=(), dtype=float32, numpy=1058.2375>,\n",
              "  <tf.Tensor: shape=(), dtype=float32, numpy=1058.71>,\n",
              "  <tf.Tensor: shape=(), dtype=float32, numpy=1093.0502>,\n",
              "  <tf.Tensor: shape=(), dtype=float32, numpy=1197.0718>,\n",
              "  <tf.Tensor: shape=(), dtype=float32, numpy=1198.0125>,\n",
              "  <tf.Tensor: shape=(), dtype=float32, numpy=1224.091>,\n",
              "  <tf.Tensor: shape=(), dtype=float32, numpy=1365.233>],\n",
              " [<tf.Tensor: shape=(), dtype=float32, numpy=278.09067>,\n",
              "  <tf.Tensor: shape=(), dtype=float32, numpy=455.09094>,\n",
              "  <tf.Tensor: shape=(), dtype=float32, numpy=492.09082>,\n",
              "  <tf.Tensor: shape=(), dtype=float32, numpy=593.0918>,\n",
              "  <tf.Tensor: shape=(), dtype=float32, numpy=609.2273>,\n",
              "  <tf.Tensor: shape=(), dtype=float32, numpy=637.0926>,\n",
              "  <tf.Tensor: shape=(), dtype=float32, numpy=638.1852>,\n",
              "  <tf.Tensor: shape=(), dtype=float32, numpy=794.09485>,\n",
              "  <tf.Tensor: shape=(), dtype=float32, numpy=871.0661>,\n",
              "  <tf.Tensor: shape=(), dtype=float32, numpy=961.1185>],\n",
              " [<tf.Tensor: shape=(), dtype=float32, numpy=581.0005>,\n",
              "  <tf.Tensor: shape=(), dtype=float32, numpy=585.00024>,\n",
              "  <tf.Tensor: shape=(), dtype=float32, numpy=585.0284>,\n",
              "  <tf.Tensor: shape=(), dtype=float32, numpy=724.00916>,\n",
              "  <tf.Tensor: shape=(), dtype=float32, numpy=1021.0242>,\n",
              "  <tf.Tensor: shape=(), dtype=float32, numpy=1773.0001>,\n",
              "  <tf.Tensor: shape=(), dtype=float32, numpy=2423.0295>,\n",
              "  <tf.Tensor: shape=(), dtype=float32, numpy=3004.0>,\n",
              "  <tf.Tensor: shape=(), dtype=float32, numpy=3041.0012>,\n",
              "  <tf.Tensor: shape=(), dtype=float32, numpy=3369.0005>],\n",
              " [<tf.Tensor: shape=(), dtype=float32, numpy=3533.483>,\n",
              "  <tf.Tensor: shape=(), dtype=float32, numpy=9841.565>,\n",
              "  <tf.Tensor: shape=(), dtype=float32, numpy=11529.567>,\n",
              "  <tf.Tensor: shape=(), dtype=float32, numpy=11529.6>,\n",
              "  <tf.Tensor: shape=(), dtype=float32, numpy=11533.604>,\n",
              "  <tf.Tensor: shape=(), dtype=float32, numpy=11853.598>,\n",
              "  <tf.Tensor: shape=(), dtype=float32, numpy=12998.297>,\n",
              "  <tf.Tensor: shape=(), dtype=float32, numpy=14093.606>,\n",
              "  <tf.Tensor: shape=(), dtype=float32, numpy=19587.594>,\n",
              "  <tf.Tensor: shape=(), dtype=float32, numpy=19626.6>],\n",
              " [<tf.Tensor: shape=(), dtype=float32, numpy=300.06857>,\n",
              "  <tf.Tensor: shape=(), dtype=float32, numpy=428.07422>,\n",
              "  <tf.Tensor: shape=(), dtype=float32, numpy=737.7984>,\n",
              "  <tf.Tensor: shape=(), dtype=float32, numpy=1552.1627>,\n",
              "  <tf.Tensor: shape=(), dtype=float32, numpy=2064.093>,\n",
              "  <tf.Tensor: shape=(), dtype=float32, numpy=2192.0127>,\n",
              "  <tf.Tensor: shape=(), dtype=float32, numpy=2193.0718>,\n",
              "  <tf.Tensor: shape=(), dtype=float32, numpy=2323.018>,\n",
              "  <tf.Tensor: shape=(), dtype=float32, numpy=2323.1736>,\n",
              "  <tf.Tensor: shape=(), dtype=float32, numpy=2323.896>],\n",
              " [<tf.Tensor: shape=(), dtype=float32, numpy=478.02844>,\n",
              "  <tf.Tensor: shape=(), dtype=float32, numpy=478.2864>,\n",
              "  <tf.Tensor: shape=(), dtype=float32, numpy=479.00885>,\n",
              "  <tf.Tensor: shape=(), dtype=float32, numpy=488.00067>,\n",
              "  <tf.Tensor: shape=(), dtype=float32, numpy=657.00684>,\n",
              "  <tf.Tensor: shape=(), dtype=float32, numpy=658.07196>,\n",
              "  <tf.Tensor: shape=(), dtype=float32, numpy=684.029>,\n",
              "  <tf.Tensor: shape=(), dtype=float32, numpy=1217.0629>,\n",
              "  <tf.Tensor: shape=(), dtype=float32, numpy=1241.282>,\n",
              "  <tf.Tensor: shape=(), dtype=float32, numpy=1449.1083>],\n",
              " [<tf.Tensor: shape=(), dtype=float32, numpy=5749.783>,\n",
              "  <tf.Tensor: shape=(), dtype=float32, numpy=12353.093>,\n",
              "  <tf.Tensor: shape=(), dtype=float32, numpy=14385.092>,\n",
              "  <tf.Tensor: shape=(), dtype=float32, numpy=14385.18>,\n",
              "  <tf.Tensor: shape=(), dtype=float32, numpy=14389.184>,\n",
              "  <tf.Tensor: shape=(), dtype=float32, numpy=15285.18>,\n",
              "  <tf.Tensor: shape=(), dtype=float32, numpy=16333.875>,\n",
              "  <tf.Tensor: shape=(), dtype=float32, numpy=17749.19>,\n",
              "  <tf.Tensor: shape=(), dtype=float32, numpy=21565.178>,\n",
              "  <tf.Tensor: shape=(), dtype=float32, numpy=21602.18>],\n",
              " [<tf.Tensor: shape=(), dtype=float32, numpy=609.86224>,\n",
              "  <tf.Tensor: shape=(), dtype=float32, numpy=9245.091>,\n",
              "  <tf.Tensor: shape=(), dtype=float32, numpy=9245.175>,\n",
              "  <tf.Tensor: shape=(), dtype=float32, numpy=9249.176>,\n",
              "  <tf.Tensor: shape=(), dtype=float32, numpy=9651.091>,\n",
              "  <tf.Tensor: shape=(), dtype=float32, numpy=9919.866>,\n",
              "  <tf.Tensor: shape=(), dtype=float32, numpy=10145.174>,\n",
              "  <tf.Tensor: shape=(), dtype=float32, numpy=10489.192>,\n",
              "  <tf.Tensor: shape=(), dtype=float32, numpy=18757.174>,\n",
              "  <tf.Tensor: shape=(), dtype=float32, numpy=18792.174>],\n",
              " [<tf.Tensor: shape=(), dtype=float32, numpy=609.8638>,\n",
              "  <tf.Tensor: shape=(), dtype=float32, numpy=9245.0625>,\n",
              "  <tf.Tensor: shape=(), dtype=float32, numpy=9245.09>,\n",
              "  <tf.Tensor: shape=(), dtype=float32, numpy=9249.091>,\n",
              "  <tf.Tensor: shape=(), dtype=float32, numpy=9651.064>,\n",
              "  <tf.Tensor: shape=(), dtype=float32, numpy=9919.779>,\n",
              "  <tf.Tensor: shape=(), dtype=float32, numpy=10145.09>,\n",
              "  <tf.Tensor: shape=(), dtype=float32, numpy=10489.113>,\n",
              "  <tf.Tensor: shape=(), dtype=float32, numpy=18757.09>,\n",
              "  <tf.Tensor: shape=(), dtype=float32, numpy=18792.09>],\n",
              " [<tf.Tensor: shape=(), dtype=float32, numpy=299.7173>,\n",
              "  <tf.Tensor: shape=(), dtype=float32, numpy=325.05676>,\n",
              "  <tf.Tensor: shape=(), dtype=float32, numpy=441.0028>,\n",
              "  <tf.Tensor: shape=(), dtype=float32, numpy=441.0296>,\n",
              "  <tf.Tensor: shape=(), dtype=float32, numpy=445.02863>,\n",
              "  <tf.Tensor: shape=(), dtype=float32, numpy=1341.0284>,\n",
              "  <tf.Tensor: shape=(), dtype=float32, numpy=2411.004>,\n",
              "  <tf.Tensor: shape=(), dtype=float32, numpy=3222.0308>,\n",
              "  <tf.Tensor: shape=(), dtype=float32, numpy=3353.0295>,\n",
              "  <tf.Tensor: shape=(), dtype=float32, numpy=3388.0288>],\n",
              " [<tf.Tensor: shape=(), dtype=float32, numpy=299.68713>,\n",
              "  <tf.Tensor: shape=(), dtype=float32, numpy=325.03018>,\n",
              "  <tf.Tensor: shape=(), dtype=float32, numpy=441.00104>,\n",
              "  <tf.Tensor: shape=(), dtype=float32, numpy=441.03052>,\n",
              "  <tf.Tensor: shape=(), dtype=float32, numpy=445.00006>,\n",
              "  <tf.Tensor: shape=(), dtype=float32, numpy=1341.0012>,\n",
              "  <tf.Tensor: shape=(), dtype=float32, numpy=2411.0327>,\n",
              "  <tf.Tensor: shape=(), dtype=float32, numpy=3222.0032>,\n",
              "  <tf.Tensor: shape=(), dtype=float32, numpy=3353.0034>,\n",
              "  <tf.Tensor: shape=(), dtype=float32, numpy=3388.0005>],\n",
              " [<tf.Tensor: shape=(), dtype=float32, numpy=15.738705>,\n",
              "  <tf.Tensor: shape=(), dtype=float32, numpy=72.709496>,\n",
              "  <tf.Tensor: shape=(), dtype=float32, numpy=81.70949>,\n",
              "  <tf.Tensor: shape=(), dtype=float32, numpy=90.69037>,\n",
              "  <tf.Tensor: shape=(), dtype=float32, numpy=117.69296>,\n",
              "  <tf.Tensor: shape=(), dtype=float32, numpy=117.70939>,\n",
              "  <tf.Tensor: shape=(), dtype=float32, numpy=139.24788>,\n",
              "  <tf.Tensor: shape=(), dtype=float32, numpy=230.01006>,\n",
              "  <tf.Tensor: shape=(), dtype=float32, numpy=238.02936>,\n",
              "  <tf.Tensor: shape=(), dtype=float32, numpy=276.3846>],\n",
              " [<tf.Tensor: shape=(), dtype=float32, numpy=38.007267>,\n",
              "  <tf.Tensor: shape=(), dtype=float32, numpy=414.48755>,\n",
              "  <tf.Tensor: shape=(), dtype=float32, numpy=536.69354>,\n",
              "  <tf.Tensor: shape=(), dtype=float32, numpy=543.64545>,\n",
              "  <tf.Tensor: shape=(), dtype=float32, numpy=1775.0087>,\n",
              "  <tf.Tensor: shape=(), dtype=float32, numpy=1802.0106>,\n",
              "  <tf.Tensor: shape=(), dtype=float32, numpy=2065.6875>,\n",
              "  <tf.Tensor: shape=(), dtype=float32, numpy=2086.2341>,\n",
              "  <tf.Tensor: shape=(), dtype=float32, numpy=2124.757>,\n",
              "  <tf.Tensor: shape=(), dtype=float32, numpy=2124.7734>],\n",
              " [<tf.Tensor: shape=(), dtype=float32, numpy=78.00415>,\n",
              "  <tf.Tensor: shape=(), dtype=float32, numpy=78.02008>,\n",
              "  <tf.Tensor: shape=(), dtype=float32, numpy=80.77147>,\n",
              "  <tf.Tensor: shape=(), dtype=float32, numpy=87.002045>,\n",
              "  <tf.Tensor: shape=(), dtype=float32, numpy=88.03749>,\n",
              "  <tf.Tensor: shape=(), dtype=float32, numpy=114.022675>,\n",
              "  <tf.Tensor: shape=(), dtype=float32, numpy=135.7426>,\n",
              "  <tf.Tensor: shape=(), dtype=float32, numpy=174.28471>,\n",
              "  <tf.Tensor: shape=(), dtype=float32, numpy=175.10786>,\n",
              "  <tf.Tensor: shape=(), dtype=float32, numpy=270.00208>],\n",
              " [<tf.Tensor: shape=(), dtype=float32, numpy=261.0003>,\n",
              "  <tf.Tensor: shape=(), dtype=float32, numpy=296.00287>,\n",
              "  <tf.Tensor: shape=(), dtype=float32, numpy=474.00256>,\n",
              "  <tf.Tensor: shape=(), dtype=float32, numpy=789.0043>,\n",
              "  <tf.Tensor: shape=(), dtype=float32, numpy=805.2944>,\n",
              "  <tf.Tensor: shape=(), dtype=float32, numpy=833.0059>,\n",
              "  <tf.Tensor: shape=(), dtype=float32, numpy=834.03534>,\n",
              "  <tf.Tensor: shape=(), dtype=float32, numpy=873.0003>,\n",
              "  <tf.Tensor: shape=(), dtype=float32, numpy=990.0041>,\n",
              "  <tf.Tensor: shape=(), dtype=float32, numpy=1069.0288>],\n",
              " [<tf.Tensor: shape=(), dtype=float32, numpy=260.0908>,\n",
              "  <tf.Tensor: shape=(), dtype=float32, numpy=297.09283>,\n",
              "  <tf.Tensor: shape=(), dtype=float32, numpy=473.0924>,\n",
              "  <tf.Tensor: shape=(), dtype=float32, numpy=790.0944>,\n",
              "  <tf.Tensor: shape=(), dtype=float32, numpy=804.2037>,\n",
              "  <tf.Tensor: shape=(), dtype=float32, numpy=834.0959>,\n",
              "  <tf.Tensor: shape=(), dtype=float32, numpy=835.1876>,\n",
              "  <tf.Tensor: shape=(), dtype=float32, numpy=872.0905>,\n",
              "  <tf.Tensor: shape=(), dtype=float32, numpy=989.0942>,\n",
              "  <tf.Tensor: shape=(), dtype=float32, numpy=1068.0635>],\n",
              " [<tf.Tensor: shape=(), dtype=float32, numpy=261.02823>,\n",
              "  <tf.Tensor: shape=(), dtype=float32, numpy=296.02866>,\n",
              "  <tf.Tensor: shape=(), dtype=float32, numpy=474.0288>,\n",
              "  <tf.Tensor: shape=(), dtype=float32, numpy=789.02905>,\n",
              "  <tf.Tensor: shape=(), dtype=float32, numpy=805.2971>,\n",
              "  <tf.Tensor: shape=(), dtype=float32, numpy=833.03015>,\n",
              "  <tf.Tensor: shape=(), dtype=float32, numpy=834.0577>,\n",
              "  <tf.Tensor: shape=(), dtype=float32, numpy=873.03033>,\n",
              "  <tf.Tensor: shape=(), dtype=float32, numpy=990.0315>,\n",
              "  <tf.Tensor: shape=(), dtype=float32, numpy=1069.0044>],\n",
              " [<tf.Tensor: shape=(), dtype=float32, numpy=15.737991>,\n",
              "  <tf.Tensor: shape=(), dtype=float32, numpy=72.70904>,\n",
              "  <tf.Tensor: shape=(), dtype=float32, numpy=81.7092>,\n",
              "  <tf.Tensor: shape=(), dtype=float32, numpy=90.689445>,\n",
              "  <tf.Tensor: shape=(), dtype=float32, numpy=117.691734>,\n",
              "  <tf.Tensor: shape=(), dtype=float32, numpy=117.70816>,\n",
              "  <tf.Tensor: shape=(), dtype=float32, numpy=139.24612>,\n",
              "  <tf.Tensor: shape=(), dtype=float32, numpy=230.00916>,\n",
              "  <tf.Tensor: shape=(), dtype=float32, numpy=238.02911>,\n",
              "  <tf.Tensor: shape=(), dtype=float32, numpy=276.37717>]]"
            ]
          },
          "metadata": {},
          "execution_count": 105
        }
      ]
    },
    {
      "cell_type": "code",
      "source": [
        "top_distance_name"
      ],
      "metadata": {
        "colab": {
          "base_uri": "https://localhost:8080/"
        },
        "collapsed": true,
        "id": "piWnZLtLh1sE",
        "outputId": "47fb5f96-2d6e-44cf-e5e6-44a442d373ce"
      },
      "execution_count": 106,
      "outputs": [
        {
          "output_type": "execute_result",
          "data": {
            "text/plain": [
              "[['Oppo A60',\n",
              "  'Oppo Reno 10',\n",
              "  'Samsung Galaxy A05s',\n",
              "  'Samsung Galaxy S24+',\n",
              "  'Samsung Galaxy M34',\n",
              "  'Oppo Find X7',\n",
              "  'Oppo A38',\n",
              "  'Xiaomi 13T',\n",
              "  'Oppo Reno 10 Pro+',\n",
              "  'Asus ROG Phone 8 Pro'],\n",
              " ['Samsung Galaxy A05s',\n",
              "  'Samsung Galaxy S24+',\n",
              "  'Samsung Galaxy M34',\n",
              "  'Oppo A60',\n",
              "  'Oppo Reno 11',\n",
              "  'Oppo Find X7',\n",
              "  'Oppo Reno 10 Pro+',\n",
              "  'Xiaomi 13T',\n",
              "  'Asus ROG Phone 8 Pro',\n",
              "  'Realme 11 Pro+ 5G'],\n",
              " ['Asus ROG Phone 8 Pro',\n",
              "  'Oppo Find X7',\n",
              "  'Realme 11 Pro+ 5G',\n",
              "  'Oppo Reno 10',\n",
              "  'Poco C65',\n",
              "  'Samsung Galaxy A05s',\n",
              "  'Samsung Galaxy S24+',\n",
              "  'Samsung Galaxy M34',\n",
              "  'Oppo A60',\n",
              "  'Oppo Reno 11'],\n",
              " ['Oppo Reno 10',\n",
              "  'Samsung Galaxy A05s',\n",
              "  'Samsung Galaxy S24+',\n",
              "  'Samsung Galaxy M34',\n",
              "  'Oppo A60',\n",
              "  'Oppo Reno 11',\n",
              "  'Oppo Reno 10 Pro+',\n",
              "  'Asus ROG Phone 8 Pro',\n",
              "  'Xiaomi 13T',\n",
              "  'Realme 11 Pro+ 5G'],\n",
              " ['Oppo Reno 11',\n",
              "  'Oppo Reno 10',\n",
              "  'Samsung Galaxy A05s',\n",
              "  'Samsung Galaxy S24+',\n",
              "  'Samsung Galaxy M34',\n",
              "  'Oppo Find X7',\n",
              "  'Oppo A38',\n",
              "  'Xiaomi 13T',\n",
              "  'Oppo Reno 10 Pro+',\n",
              "  'Asus ROG Phone 8 Pro'],\n",
              " ['Oppo A38',\n",
              "  'Xiaomi 13T',\n",
              "  'Oppo A60',\n",
              "  'Oppo Reno 11',\n",
              "  'Asus Zenfone 11 Ultra',\n",
              "  'Oppo Reno 10',\n",
              "  'Samsung Galaxy A05s',\n",
              "  'Samsung Galaxy S24+',\n",
              "  'Samsung Galaxy M34',\n",
              "  'Oppo Find X7'],\n",
              " ['Oppo A79',\n",
              "  'Oppo A60',\n",
              "  'Oppo Reno 11',\n",
              "  'Xiaomi 13T',\n",
              "  'Oppo Reno 10',\n",
              "  'Samsung Galaxy S24+',\n",
              "  'Samsung Galaxy A05s',\n",
              "  'Samsung Galaxy M34',\n",
              "  'Oppo Find X7',\n",
              "  'Asus Zenfone 11 Ultra'],\n",
              " ['Redmi Note13 Pro 5G',\n",
              "  'Infinix GT 20 Pro',\n",
              "  'Oppo A38',\n",
              "  'Oppo A79',\n",
              "  'Oppo A60',\n",
              "  'Oppo Reno 11',\n",
              "  'Xiaomi 13T',\n",
              "  'Samsung Galaxy S24+',\n",
              "  'Samsung Galaxy A05s',\n",
              "  'Samsung Galaxy M34'],\n",
              " ['Oppo Reno 10 Pro+',\n",
              "  'Realme 11 Pro+ 5G',\n",
              "  'Poco C65',\n",
              "  'Oppo Find X7',\n",
              "  'Redmi 13C',\n",
              "  'Oppo Reno 10',\n",
              "  'Samsung Galaxy A05s',\n",
              "  'Samsung Galaxy S24+',\n",
              "  'Samsung Galaxy M34',\n",
              "  'iPhone 14'],\n",
              " ['Redmi 12',\n",
              "  'Redmi Note 13 5G',\n",
              "  'Infinix Note 40',\n",
              "  'Infinix Zero 30 4G',\n",
              "  'iPhone 14',\n",
              "  'Realme Note 50',\n",
              "  'Huawei Nova Y72',\n",
              "  'Huawei Nova 11',\n",
              "  'Realme C65',\n",
              "  'Realme 12+ 5G'],\n",
              " ['Redmi Note13 Pro 5G',\n",
              "  'Asus Zenfone 11 Ultra',\n",
              "  'Samsung Galaxy M34',\n",
              "  'Samsung Galaxy S24+',\n",
              "  'Samsung Galaxy A05s',\n",
              "  'Oppo Reno 10',\n",
              "  'Oppo A38',\n",
              "  'Oppo A79',\n",
              "  'Oppo A60',\n",
              "  'Oppo Reno 11'],\n",
              " ['Infinix Zero 30 4G',\n",
              "  'Realme Note 50',\n",
              "  'Huawei Nova Y72',\n",
              "  'Redmi 12',\n",
              "  'Redmi Note 13 5G',\n",
              "  'Huawei Nova 11',\n",
              "  'Realme C65',\n",
              "  'Infinix Smart 8',\n",
              "  'Realme 12+ 5G',\n",
              "  'iPhone 14 Pro'],\n",
              " ['Samsung Galaxy A25',\n",
              "  'iPhone 15 Pro',\n",
              "  'Samsung Galaxy A35',\n",
              "  'Infinix Zero 30 4G',\n",
              "  'Infinix Note 40',\n",
              "  'Redmi 12',\n",
              "  'Redmi Note 13 5G',\n",
              "  'Realme Note 50',\n",
              "  'Huawei Nova Y72',\n",
              "  'Infinix Smart 8'],\n",
              " ['Infinix Note 40',\n",
              "  'Redmi Note 13 5G',\n",
              "  'Redmi 12',\n",
              "  'Realme Note 50',\n",
              "  'Huawei Nova Y72',\n",
              "  'Infinix Smart 8',\n",
              "  'Huawei Nova 11',\n",
              "  'Realme C65',\n",
              "  'Realme 12+ 5G',\n",
              "  'iPhone 15'],\n",
              " ['Infinix Hot 40 Pro',\n",
              "  'iPhone 15 Pro',\n",
              "  'Samsung Galaxy A35',\n",
              "  'Infinix Note 40',\n",
              "  'Infinix Zero 30 4G',\n",
              "  'Realme Note 50',\n",
              "  'Huawei Nova Y72',\n",
              "  'Redmi 12',\n",
              "  'Redmi Note 13 5G',\n",
              "  'Infinix Smart 8'],\n",
              " ['Samsung Galaxy A05s',\n",
              "  'Samsung Galaxy M34',\n",
              "  'Oppo Reno 10',\n",
              "  'Oppo Find X7',\n",
              "  'Oppo Reno 11',\n",
              "  'Oppo A60',\n",
              "  'Oppo Reno 10 Pro+',\n",
              "  'Xiaomi 13T',\n",
              "  'Realme 11 Pro+ 5G',\n",
              "  'Asus ROG Phone 8 Pro'],\n",
              " ['Realme C67',\n",
              "  'Realme 11 Pro+ 5G',\n",
              "  'Vivo V29',\n",
              "  'Huawei Nova 11',\n",
              "  'Realme C65',\n",
              "  'Realme 12+ 5G',\n",
              "  'Huawei Nova Y72',\n",
              "  'Realme Note 50',\n",
              "  'iPhone 14 Pro',\n",
              "  'Infinix Note 40'],\n",
              " ['Samsung Galaxy S24+',\n",
              "  'Samsung Galaxy A05s',\n",
              "  'Oppo Reno 10',\n",
              "  'Oppo Find X7',\n",
              "  'Oppo Reno 11',\n",
              "  'Oppo A60',\n",
              "  'Oppo Reno 10 Pro+',\n",
              "  'Xiaomi 13T',\n",
              "  'Realme 11 Pro+ 5G',\n",
              "  'Asus ROG Phone 8 Pro'],\n",
              " ['Samsung Galaxy S24+',\n",
              "  'Samsung Galaxy M34',\n",
              "  'Oppo Reno 10',\n",
              "  'Oppo Find X7',\n",
              "  'Oppo Reno 11',\n",
              "  'Oppo A60',\n",
              "  'Oppo Reno 10 Pro+',\n",
              "  'Xiaomi 13T',\n",
              "  'Realme 11 Pro+ 5G',\n",
              "  'Asus ROG Phone 8 Pro'],\n",
              " ['iPhone 15 Pro',\n",
              "  'Samsung Galaxy A25',\n",
              "  'Infinix Hot 40 Pro',\n",
              "  'Vivo V30',\n",
              "  'Poco X6 Pro 5G',\n",
              "  'Realme Note 50',\n",
              "  'Huawei Nova Y72',\n",
              "  'Huawei Nova 11',\n",
              "  'Realme C65',\n",
              "  'Realme 12+ 5G'],\n",
              " ['Poco X6 Pro 5G',\n",
              "  'Realme Note 50',\n",
              "  'Huawei Nova Y72',\n",
              "  'Huawei Nova 11',\n",
              "  'Realme C65',\n",
              "  'Realme 12+ 5G',\n",
              "  'iPhone 14 Pro',\n",
              "  'iPhone 15',\n",
              "  'Infinix Note 40',\n",
              "  'Infinix Zero 30 4G'],\n",
              " ['Vivo T3x',\n",
              "  'Vivo V29e',\n",
              "  'Huawei Pura 70 Pro',\n",
              "  'Huawei P60 Pro',\n",
              "  'Realme C51',\n",
              "  'Huawei Nova 12s',\n",
              "  'Poco C65',\n",
              "  'Asus ROG Phone 8 Pro',\n",
              "  'Oppo Reno 10 Pro+',\n",
              "  'Oppo Find X7'],\n",
              " ['Vivo Y27s',\n",
              "  'Vivo V29e',\n",
              "  'Huawei Pura 70 Pro',\n",
              "  'Huawei P60 Pro',\n",
              "  'Realme C51',\n",
              "  'Huawei Nova 12s',\n",
              "  'Poco C65',\n",
              "  'Asus ROG Phone 8 Pro',\n",
              "  'Oppo Reno 10 Pro+',\n",
              "  'Oppo Find X7'],\n",
              " ['Vivo T3x',\n",
              "  'Vivo Y27s',\n",
              "  'Huawei Pura 70 Pro',\n",
              "  'Huawei P60 Pro',\n",
              "  'Realme C51',\n",
              "  'Huawei Nova 12s',\n",
              "  'Poco C65',\n",
              "  'Asus ROG Phone 8 Pro',\n",
              "  'Oppo Reno 10 Pro+',\n",
              "  'Oppo Find X7'],\n",
              " ['Realme C67',\n",
              "  'Samsung Galaxy Z Fold5',\n",
              "  'Realme Note 50',\n",
              "  'Huawei Nova Y72',\n",
              "  'Huawei Nova 11',\n",
              "  'Realme C65',\n",
              "  'Realme 12+ 5G',\n",
              "  'Poco X6 Pro 5G',\n",
              "  'Vivo V30',\n",
              "  'iPhone 14 Pro'],\n",
              " ['Realme C51',\n",
              "  'Vivo V29e',\n",
              "  'Vivo T3x',\n",
              "  'Vivo Y27s',\n",
              "  'Huawei P60 Pro',\n",
              "  'Huawei Nova 12s',\n",
              "  'Poco C65',\n",
              "  'Asus ROG Phone 8 Pro',\n",
              "  'Oppo Reno 10 Pro+',\n",
              "  'Samsung Galaxy Z Fold5'],\n",
              " ['Huawei P60 Pro',\n",
              "  'Vivo Y27s',\n",
              "  'Vivo T3x',\n",
              "  'Vivo V29e',\n",
              "  'Huawei Pura 70 Pro',\n",
              "  'Realme C51',\n",
              "  'Oppo Reno 10 Pro+',\n",
              "  'Asus ROG Phone 8 Pro',\n",
              "  'Poco C65',\n",
              "  'Oppo Find X7'],\n",
              " ['Vivo T3x',\n",
              "  'Vivo Y27s',\n",
              "  'Vivo V29e',\n",
              "  'Huawei Pura 70 Pro',\n",
              "  'Huawei Nova 12s',\n",
              "  'Realme C51',\n",
              "  'Poco C65',\n",
              "  'Asus ROG Phone 8 Pro',\n",
              "  'Oppo Reno 10 Pro+',\n",
              "  'Oppo Find X7'],\n",
              " ['Huawei Nova 11',\n",
              "  'Realme C65',\n",
              "  'Realme Note 50',\n",
              "  'Realme 12+ 5G',\n",
              "  'Infinix Note 40',\n",
              "  'iPhone 14 Pro',\n",
              "  'Infinix Zero 30 4G',\n",
              "  'Poco X6 Pro 5G',\n",
              "  'iPhone 15',\n",
              "  'Vivo V30'],\n",
              " ['Realme C65',\n",
              "  'Huawei Nova Y72',\n",
              "  'Realme 12+ 5G',\n",
              "  'Realme Note 50',\n",
              "  'iPhone 14 Pro',\n",
              "  'Infinix Note 40',\n",
              "  'Infinix Zero 30 4G',\n",
              "  'iPhone 15',\n",
              "  'Poco X6 Pro 5G',\n",
              "  'Vivo V30'],\n",
              " ['Vivo Y27s',\n",
              "  'Vivo T3x',\n",
              "  'Vivo V29e',\n",
              "  'Huawei Pura 70 Pro',\n",
              "  'Realme C51',\n",
              "  'Huawei P60 Pro',\n",
              "  'Huawei Nova 12s',\n",
              "  'Oppo Reno 10 Pro+',\n",
              "  'Asus ROG Phone 8 Pro',\n",
              "  'Oppo Find X7'],\n",
              " ['Infinix Smart 8',\n",
              "  'Redmi Note 13 5G',\n",
              "  'Redmi 12',\n",
              "  'Infinix Note 40',\n",
              "  'iPhone 14 Pro',\n",
              "  'Infinix Zero 30 4G',\n",
              "  'Realme 12+ 5G',\n",
              "  'iPhone 15',\n",
              "  'Huawei Nova 11',\n",
              "  'Realme C65'],\n",
              " ['Realme 12+ 5G',\n",
              "  'iPhone 15',\n",
              "  'Huawei Nova 11',\n",
              "  'Realme C65',\n",
              "  'Huawei Nova Y72',\n",
              "  'Realme Note 50',\n",
              "  'Infinix Note 40',\n",
              "  'Infinix Zero 30 4G',\n",
              "  'Poco X6 Pro 5G',\n",
              "  'iPhone 14'],\n",
              " ['iPhone 14 Pro',\n",
              "  'Realme 12+ 5G',\n",
              "  'Huawei Nova 11',\n",
              "  'Realme C65',\n",
              "  'Huawei Nova Y72',\n",
              "  'Realme Note 50',\n",
              "  'Infinix Zero 30 4G',\n",
              "  'Infinix Note 40',\n",
              "  'Poco X6 Pro 5G',\n",
              "  'iPhone 14'],\n",
              " ['Infinix Hot 40 Pro',\n",
              "  'Samsung Galaxy A25',\n",
              "  'Samsung Galaxy A35',\n",
              "  'Huawei Nova 11',\n",
              "  'Realme C65',\n",
              "  'Realme 12+ 5G',\n",
              "  'Huawei Nova Y72',\n",
              "  'Realme Note 50',\n",
              "  'iPhone 14 Pro',\n",
              "  'Infinix Note 40'],\n",
              " ['Huawei Nova 11',\n",
              "  'Huawei Nova Y72',\n",
              "  'Realme 12+ 5G',\n",
              "  'Realme Note 50',\n",
              "  'iPhone 14 Pro',\n",
              "  'Infinix Note 40',\n",
              "  'Infinix Zero 30 4G',\n",
              "  'iPhone 15',\n",
              "  'Poco X6 Pro 5G',\n",
              "  'Vivo V30'],\n",
              " ['Huawei Pura 70 Pro',\n",
              "  'Vivo T3x',\n",
              "  'Vivo Y27s',\n",
              "  'Vivo V29e',\n",
              "  'Huawei P60 Pro',\n",
              "  'Huawei Nova 12s',\n",
              "  'Poco C65',\n",
              "  'Realme C67',\n",
              "  'Samsung Galaxy Z Fold5',\n",
              "  'Vivo V29'],\n",
              " ['Huawei Nova Y72',\n",
              "  'Huawei Nova 11',\n",
              "  'Realme C65',\n",
              "  'Realme 12+ 5G',\n",
              "  'Infinix Note 40',\n",
              "  'Infinix Zero 30 4G',\n",
              "  'Poco X6 Pro 5G',\n",
              "  'iPhone 14 Pro',\n",
              "  'iPhone 15',\n",
              "  'Vivo V30'],\n",
              " ['Samsung Galaxy Z Fold5',\n",
              "  'Vivo V29',\n",
              "  'Realme 12+ 5G',\n",
              "  'Huawei Nova 11',\n",
              "  'Realme C65',\n",
              "  'Realme 11 Pro+ 5G',\n",
              "  'Huawei Nova Y72',\n",
              "  'iPhone 14 Pro',\n",
              "  'Realme Note 50',\n",
              "  'Infinix Note 40'],\n",
              " ['Huawei Nova 11',\n",
              "  'Realme C65',\n",
              "  'Huawei Nova Y72',\n",
              "  'Realme Note 50',\n",
              "  'iPhone 14 Pro',\n",
              "  'iPhone 15',\n",
              "  'Infinix Note 40',\n",
              "  'Infinix Zero 30 4G',\n",
              "  'Poco X6 Pro 5G',\n",
              "  'Vivo V30'],\n",
              " ['Samsung Galaxy Z Fold5',\n",
              "  'Realme C67',\n",
              "  'Poco C65',\n",
              "  'iPhone 14',\n",
              "  'Redmi 12',\n",
              "  'Redmi Note 13 5G',\n",
              "  'Infinix Smart 8',\n",
              "  'Huawei Nova 11',\n",
              "  'Realme C65',\n",
              "  'Oppo Reno 10 Pro+'],\n",
              " ['Oppo A60',\n",
              "  'Oppo Reno 11',\n",
              "  'Oppo A38',\n",
              "  'Oppo Reno 10',\n",
              "  'Oppo A79',\n",
              "  'Samsung Galaxy A05s',\n",
              "  'Samsung Galaxy S24+',\n",
              "  'Samsung Galaxy M34',\n",
              "  'Oppo Find X7',\n",
              "  'Oppo Reno 10 Pro+'],\n",
              " ['Infinix GT 20 Pro',\n",
              "  'Asus Zenfone 11 Ultra',\n",
              "  'Oppo A38',\n",
              "  'Samsung Galaxy A05s',\n",
              "  'Samsung Galaxy S24+',\n",
              "  'Samsung Galaxy M34',\n",
              "  'Oppo Reno 11',\n",
              "  'Oppo A60',\n",
              "  'Xiaomi 13T',\n",
              "  'Oppo Reno 10'],\n",
              " ['Redmi 12',\n",
              "  'Infinix Smart 8',\n",
              "  'Infinix Note 40',\n",
              "  'Infinix Zero 30 4G',\n",
              "  'iPhone 14',\n",
              "  'Realme Note 50',\n",
              "  'Huawei Nova Y72',\n",
              "  'Huawei Nova 11',\n",
              "  'Realme C65',\n",
              "  'Realme 12+ 5G'],\n",
              " ['Asus ROG Phone 8 Pro',\n",
              "  'Oppo Reno 10 Pro+',\n",
              "  'Infinix Smart 8',\n",
              "  'Redmi Note 13 5G',\n",
              "  'Redmi 12',\n",
              "  'iPhone 14',\n",
              "  'Oppo A60',\n",
              "  'Oppo Reno 11',\n",
              "  'Oppo Reno 10',\n",
              "  'Samsung Galaxy A05s'],\n",
              " ['Redmi Note 13 5G',\n",
              "  'Infinix Smart 8',\n",
              "  'Infinix Note 40',\n",
              "  'Infinix Zero 30 4G',\n",
              "  'iPhone 14',\n",
              "  'Realme Note 50',\n",
              "  'Huawei Nova Y72',\n",
              "  'Realme C65',\n",
              "  'Huawei Nova 11',\n",
              "  'Realme 12+ 5G'],\n",
              " ['Vivo V30',\n",
              "  'Realme Note 50',\n",
              "  'Huawei Nova Y72',\n",
              "  'Huawei Nova 11',\n",
              "  'Realme C65',\n",
              "  'Realme 12+ 5G',\n",
              "  'Infinix Note 40',\n",
              "  'Infinix Zero 30 4G',\n",
              "  'iPhone 14 Pro',\n",
              "  'iPhone 15'],\n",
              " ['Realme 11 Pro+ 5G',\n",
              "  'Samsung Galaxy Z Fold5',\n",
              "  'Oppo Reno 10 Pro+',\n",
              "  'Asus ROG Phone 8 Pro',\n",
              "  'Realme C67',\n",
              "  'Vivo V29',\n",
              "  'Oppo Find X7',\n",
              "  'Oppo Reno 10',\n",
              "  'Samsung Galaxy A05s',\n",
              "  'Samsung Galaxy S24+'],\n",
              " ['Poco X6 Pro 5G',\n",
              "  'Vivo V30',\n",
              "  'Realme Note 50',\n",
              "  'Huawei Nova Y72',\n",
              "  'Huawei Nova 11',\n",
              "  'Realme C65',\n",
              "  'Realme 12+ 5G',\n",
              "  'Infinix Note 40',\n",
              "  'iPhone 14 Pro',\n",
              "  'iPhone 15'],\n",
              " ['Oppo Reno 10 Pro+',\n",
              "  'Asus ROG Phone 8 Pro',\n",
              "  'Oppo A60',\n",
              "  'Oppo Reno 11',\n",
              "  'Oppo Reno 10',\n",
              "  'Samsung Galaxy A05s',\n",
              "  'Samsung Galaxy S24+',\n",
              "  'Samsung Galaxy M34',\n",
              "  'Oppo Find X7',\n",
              "  'Poco C65'],\n",
              " ['Asus Zenfone 11 Ultra',\n",
              "  'Oppo A38',\n",
              "  'Oppo A79',\n",
              "  'Infinix GT 20 Pro',\n",
              "  'Redmi Note13 Pro 5G',\n",
              "  'Oppo A60',\n",
              "  'Oppo Reno 11',\n",
              "  'Samsung Galaxy M34',\n",
              "  'Samsung Galaxy S24+',\n",
              "  'Samsung Galaxy A05s'],\n",
              " ['Oppo A38',\n",
              "  'Oppo A79',\n",
              "  'Oppo A60',\n",
              "  'Oppo Reno 11',\n",
              "  'Oppo Reno 10',\n",
              "  'Samsung Galaxy M34',\n",
              "  'Samsung Galaxy S24+',\n",
              "  'Samsung Galaxy A05s',\n",
              "  'Oppo Find X7',\n",
              "  'Xiaomi 13T'],\n",
              " ['iPhone 14',\n",
              "  'Redmi 13C',\n",
              "  'Oppo Reno 10 Pro+',\n",
              "  'Infinix Smart 8',\n",
              "  'Samsung Galaxy M34',\n",
              "  'Samsung Galaxy S24+',\n",
              "  'Samsung Galaxy A05s',\n",
              "  'Redmi Note 13 5G',\n",
              "  'Asus ROG Phone 8 Pro',\n",
              "  'Redmi 12'],\n",
              " ['Poco C65',\n",
              "  'Oppo Reno 10 Pro+',\n",
              "  'Asus ROG Phone 8 Pro',\n",
              "  'Realme 11 Pro+ 5G',\n",
              "  'Oppo Reno 10',\n",
              "  'Samsung Galaxy A05s',\n",
              "  'Samsung Galaxy S24+',\n",
              "  'Samsung Galaxy M34',\n",
              "  'Oppo A60',\n",
              "  'Oppo Find X7'],\n",
              " ['Huawei Nova 12s',\n",
              "  'Vivo T3x',\n",
              "  'Vivo Y27s',\n",
              "  'Vivo V29e',\n",
              "  'Huawei P60 Pro',\n",
              "  'Huawei Pura 70 Pro',\n",
              "  'Realme C51',\n",
              "  'Oppo Reno 10 Pro+',\n",
              "  'Asus ROG Phone 8 Pro',\n",
              "  'Oppo Find X7'],\n",
              " ['Oppo A38',\n",
              "  'Oppo A60',\n",
              "  'Oppo Reno 11',\n",
              "  'Oppo A79',\n",
              "  'Oppo Reno 10',\n",
              "  'Samsung Galaxy S24+',\n",
              "  'Samsung Galaxy A05s',\n",
              "  'Samsung Galaxy M34',\n",
              "  'Oppo Find X7',\n",
              "  'Xiaomi 13T'],\n",
              " ['iPhone 14',\n",
              "  'Redmi 13C',\n",
              "  'Infinix Smart 8',\n",
              "  'Redmi Note 13 5G',\n",
              "  'Redmi 12',\n",
              "  'Oppo Reno 10 Pro+',\n",
              "  'Samsung Galaxy S24+',\n",
              "  'Samsung Galaxy A05s',\n",
              "  'Samsung Galaxy M34',\n",
              "  'Asus ROG Phone 8 Pro'],\n",
              " ['Realme Note 50',\n",
              "  'Huawei Nova Y72',\n",
              "  'Poco X6 Pro 5G',\n",
              "  'Realme C65',\n",
              "  'Huawei Nova 11',\n",
              "  'Realme 12+ 5G',\n",
              "  'Infinix Note 40',\n",
              "  'Infinix Zero 30 4G',\n",
              "  'Vivo V30',\n",
              "  'iPhone 14 Pro'],\n",
              " ['Oppo A60',\n",
              "  'Oppo Reno 11',\n",
              "  'Oppo Reno 10 Pro+',\n",
              "  'Asus ROG Phone 8 Pro',\n",
              "  'Xiaomi 13T',\n",
              "  'Oppo Reno 10',\n",
              "  'Oppo A38',\n",
              "  'Oppo Find X7',\n",
              "  'Samsung Galaxy A05s',\n",
              "  'Samsung Galaxy S24+'],\n",
              " ['Poco C65',\n",
              "  'Oppo Reno 10 Pro+',\n",
              "  'Asus ROG Phone 8 Pro',\n",
              "  'Realme 11 Pro+ 5G',\n",
              "  'Oppo Reno 10',\n",
              "  'Samsung Galaxy A05s',\n",
              "  'Samsung Galaxy S24+',\n",
              "  'Samsung Galaxy M34',\n",
              "  'Oppo A60',\n",
              "  'Oppo Find X7'],\n",
              " ['iPhone 15 Pro',\n",
              "  'Samsung Galaxy A35',\n",
              "  'Infinix Hot 40 Pro',\n",
              "  'Samsung Galaxy A25',\n",
              "  'Huawei Nova 11',\n",
              "  'Realme C65',\n",
              "  'Realme 12+ 5G',\n",
              "  'Huawei Nova Y72',\n",
              "  'Realme Note 50',\n",
              "  'iPhone 14 Pro'],\n",
              " ['iPhone 15 Pro',\n",
              "  'Samsung Galaxy A35',\n",
              "  'Infinix Hot 40 Pro',\n",
              "  'Samsung Galaxy A25',\n",
              "  'Huawei Nova 11',\n",
              "  'Realme C65',\n",
              "  'Realme 12+ 5G',\n",
              "  'Huawei Nova Y72',\n",
              "  'Realme Note 50',\n",
              "  'iPhone 14 Pro'],\n",
              " ['Samsung Galaxy A35',\n",
              "  'iPhone 15 Pro',\n",
              "  'Samsung Galaxy A25',\n",
              "  'Infinix Hot 40 Pro',\n",
              "  'Poco X6 Pro 5G',\n",
              "  'Realme Note 50',\n",
              "  'Huawei Nova Y72',\n",
              "  'Vivo V30',\n",
              "  'Huawei Nova 11',\n",
              "  'Realme C65'],\n",
              " ['iPhone 15 Pro',\n",
              "  'Samsung Galaxy A35',\n",
              "  'Infinix Hot 40 Pro',\n",
              "  'Samsung Galaxy A25',\n",
              "  'Huawei Nova 11',\n",
              "  'Realme C65',\n",
              "  'Realme 12+ 5G',\n",
              "  'Huawei Nova Y72',\n",
              "  'Realme Note 50',\n",
              "  'iPhone 14 Pro'],\n",
              " ['iPhone 15 Pro',\n",
              "  'Samsung Galaxy A35',\n",
              "  'Infinix Hot 40 Pro',\n",
              "  'Samsung Galaxy A25',\n",
              "  'Huawei Nova 11',\n",
              "  'Realme C65',\n",
              "  'Realme 12+ 5G',\n",
              "  'Huawei Nova Y72',\n",
              "  'Realme Note 50',\n",
              "  'iPhone 14 Pro'],\n",
              " ['iPhone 14 Pro',\n",
              "  'Realme 12+ 5G',\n",
              "  'iPhone 15',\n",
              "  'Huawei Nova 11',\n",
              "  'Realme C65',\n",
              "  'Huawei Nova Y72',\n",
              "  'Realme Note 50',\n",
              "  'Poco X6 Pro 5G',\n",
              "  'Vivo V30',\n",
              "  'Infinix Note 40'],\n",
              " ['iPhone 14 Pro',\n",
              "  'Realme 12+ 5G',\n",
              "  'iPhone 15',\n",
              "  'Huawei Nova 11',\n",
              "  'Realme C65',\n",
              "  'Huawei Nova Y72',\n",
              "  'Realme Note 50',\n",
              "  'Poco X6 Pro 5G',\n",
              "  'Vivo V30',\n",
              "  'Infinix Note 40'],\n",
              " ['Huawei Nova 11',\n",
              "  'Realme C65',\n",
              "  'Realme 12+ 5G',\n",
              "  'Huawei Nova Y72',\n",
              "  'Realme Note 50',\n",
              "  'iPhone 14 Pro',\n",
              "  'Poco X6 Pro 5G',\n",
              "  'iPhone 15',\n",
              "  'Vivo V30',\n",
              "  'Infinix Note 40'],\n",
              " ['Huawei Nova 11',\n",
              "  'Realme C65',\n",
              "  'Realme 12+ 5G',\n",
              "  'Huawei Nova Y72',\n",
              "  'Realme Note 50',\n",
              "  'iPhone 14 Pro',\n",
              "  'Poco X6 Pro 5G',\n",
              "  'iPhone 15',\n",
              "  'Vivo V30',\n",
              "  'Infinix Note 40'],\n",
              " ['iPhone 14 Pro',\n",
              "  'Realme 12+ 5G',\n",
              "  'iPhone 15',\n",
              "  'Huawei Nova 11',\n",
              "  'Realme C65',\n",
              "  'Huawei Nova Y72',\n",
              "  'Realme Note 50',\n",
              "  'Poco X6 Pro 5G',\n",
              "  'Vivo V30',\n",
              "  'Infinix Note 40'],\n",
              " ['iPhone 14 Pro',\n",
              "  'Realme 12+ 5G',\n",
              "  'iPhone 15',\n",
              "  'Huawei Nova 11',\n",
              "  'Realme C65',\n",
              "  'Huawei Nova Y72',\n",
              "  'Realme Note 50',\n",
              "  'Poco X6 Pro 5G',\n",
              "  'Vivo V30',\n",
              "  'Infinix Note 40'],\n",
              " ['Redmi Note 13 5G',\n",
              "  'Infinix Smart 8',\n",
              "  'Redmi 12',\n",
              "  'Infinix Note 40',\n",
              "  'Infinix Zero 30 4G',\n",
              "  'iPhone 14',\n",
              "  'Realme Note 50',\n",
              "  'Huawei Nova Y72',\n",
              "  'Huawei Nova 11',\n",
              "  'Realme C65'],\n",
              " ['Infinix Note 40',\n",
              "  'Infinix Zero 30 4G',\n",
              "  'Realme Note 50',\n",
              "  'Huawei Nova Y72',\n",
              "  'Redmi Note 13 5G',\n",
              "  'Redmi 12',\n",
              "  'Huawei Nova 11',\n",
              "  'Realme C65',\n",
              "  'Infinix Smart 8',\n",
              "  'Realme 12+ 5G'],\n",
              " ['Infinix Zero 30 4G',\n",
              "  'Infinix Note 40',\n",
              "  'Redmi Note 13 5G',\n",
              "  'Redmi 12',\n",
              "  'Realme Note 50',\n",
              "  'Huawei Nova Y72',\n",
              "  'Infinix Smart 8',\n",
              "  'Huawei Nova 11',\n",
              "  'Realme C65',\n",
              "  'Realme 12+ 5G'],\n",
              " ['Infinix Zero 30 4G',\n",
              "  'Infinix Note 40',\n",
              "  'Redmi 12',\n",
              "  'Redmi Note 13 5G',\n",
              "  'Realme Note 50',\n",
              "  'Infinix Smart 8',\n",
              "  'Huawei Nova Y72',\n",
              "  'Huawei Nova 11',\n",
              "  'Realme C65',\n",
              "  'Realme 12+ 5G'],\n",
              " ['Samsung Galaxy A35',\n",
              "  'iPhone 15 Pro',\n",
              "  'Infinix Hot 40 Pro',\n",
              "  'Samsung Galaxy A25',\n",
              "  'Vivo V30',\n",
              "  'Poco X6 Pro 5G',\n",
              "  'Realme Note 50',\n",
              "  'Huawei Nova Y72',\n",
              "  'Huawei Nova 11',\n",
              "  'Realme C65'],\n",
              " ['Infinix Note 40',\n",
              "  'Infinix Zero 30 4G',\n",
              "  'Realme Note 50',\n",
              "  'Huawei Nova Y72',\n",
              "  'Redmi 12',\n",
              "  'Redmi Note 13 5G',\n",
              "  'Infinix Smart 8',\n",
              "  'Huawei Nova 11',\n",
              "  'Realme C65',\n",
              "  'Realme 12+ 5G'],\n",
              " ['Huawei Pura 70 Pro',\n",
              "  'Realme C51',\n",
              "  'Vivo V29e',\n",
              "  'Vivo T3x',\n",
              "  'Vivo Y27s',\n",
              "  'Huawei P60 Pro',\n",
              "  'Huawei Nova 12s',\n",
              "  'Infinix Note 40',\n",
              "  'Infinix Zero 30 4G',\n",
              "  'Realme Note 50'],\n",
              " ['Xiaomi 13T',\n",
              "  'Oppo Reno 10',\n",
              "  'Samsung Galaxy A05s',\n",
              "  'Samsung Galaxy S24+',\n",
              "  'Samsung Galaxy M34',\n",
              "  'Oppo A79',\n",
              "  'Oppo A60',\n",
              "  'Oppo Reno 11',\n",
              "  'Oppo Find X7',\n",
              "  'Oppo A38'],\n",
              " ['Redmi 13C',\n",
              "  'Oppo Reno 10 Pro+',\n",
              "  'Asus ROG Phone 8 Pro',\n",
              "  'Infinix Smart 8',\n",
              "  'iPhone 14',\n",
              "  'Redmi Note 13 5G',\n",
              "  'Redmi 12',\n",
              "  'Realme 11 Pro+ 5G',\n",
              "  'Oppo Reno 10',\n",
              "  'Samsung Galaxy A05s'],\n",
              " ['Vivo V29e',\n",
              "  'Vivo T3x',\n",
              "  'Vivo Y27s',\n",
              "  'Huawei Pura 70 Pro',\n",
              "  'Realme C51',\n",
              "  'Huawei P60 Pro',\n",
              "  'Huawei Nova 12s',\n",
              "  'Asus ROG Phone 8 Pro',\n",
              "  'Oppo Reno 10 Pro+',\n",
              "  'Infinix Smart 8'],\n",
              " ['iPhone 13',\n",
              "  'Huawei Nova 12s',\n",
              "  'Vivo Y27s',\n",
              "  'Vivo T3x',\n",
              "  'Vivo V29e',\n",
              "  'Huawei P60 Pro',\n",
              "  'Huawei Pura 70 Pro',\n",
              "  'Realme C51',\n",
              "  'Oppo Reno 10 Pro+',\n",
              "  'Asus ROG Phone 8 Pro'],\n",
              " ['Asus Zenfone 11 Ultra',\n",
              "  'Redmi Note13 Pro 5G',\n",
              "  'Infinix GT 20 Pro',\n",
              "  'Oppo A38',\n",
              "  'Oppo A79',\n",
              "  'Oppo A60',\n",
              "  'Oppo Reno 11',\n",
              "  'Samsung Galaxy A05s',\n",
              "  'Samsung Galaxy S24+',\n",
              "  'Samsung Galaxy M34'],\n",
              " ['Samsung Galaxy A05s',\n",
              "  'Samsung Galaxy S24+',\n",
              "  'Samsung Galaxy M34',\n",
              "  'Oppo Reno 10',\n",
              "  'Oppo A60',\n",
              "  'Oppo Reno 11',\n",
              "  'Oppo Find X7',\n",
              "  'Xiaomi 13T',\n",
              "  'Oppo A38',\n",
              "  'Oppo A79'],\n",
              " ['iPhone 13',\n",
              "  'Huawei Nova 12s',\n",
              "  'Vivo Y27s',\n",
              "  'Vivo T3x',\n",
              "  'Vivo V29e',\n",
              "  'Huawei P60 Pro',\n",
              "  'Huawei Pura 70 Pro',\n",
              "  'Realme C51',\n",
              "  'Oppo Reno 10 Pro+',\n",
              "  'Asus ROG Phone 8 Pro'],\n",
              " ['iPhone 13',\n",
              "  'Vivo Y27s',\n",
              "  'Vivo T3x',\n",
              "  'Vivo V29e',\n",
              "  'Huawei Nova 12s',\n",
              "  'Huawei Pura 70 Pro',\n",
              "  'Huawei P60 Pro',\n",
              "  'Realme C51',\n",
              "  'Oppo Reno 10 Pro+',\n",
              "  'Asus ROG Phone 8 Pro'],\n",
              " ['iPhone 13',\n",
              "  'Vivo Y27s',\n",
              "  'Vivo T3x',\n",
              "  'Vivo V29e',\n",
              "  'Huawei Nova 12s',\n",
              "  'Huawei Pura 70 Pro',\n",
              "  'Huawei P60 Pro',\n",
              "  'Realme C51',\n",
              "  'Oppo Reno 10 Pro+',\n",
              "  'Asus ROG Phone 8 Pro'],\n",
              " ['Huawei Pura 70 Pro',\n",
              "  'Realme C51',\n",
              "  'Vivo Y27s',\n",
              "  'Vivo T3x',\n",
              "  'Vivo V29e',\n",
              "  'Huawei P60 Pro',\n",
              "  'Huawei Nova 12s',\n",
              "  'Poco C65',\n",
              "  'Oppo Reno 10 Pro+',\n",
              "  'Asus ROG Phone 8 Pro'],\n",
              " ['Huawei Pura 70 Pro',\n",
              "  'Realme C51',\n",
              "  'Vivo T3x',\n",
              "  'Vivo Y27s',\n",
              "  'Vivo V29e',\n",
              "  'Huawei P60 Pro',\n",
              "  'Huawei Nova 12s',\n",
              "  'Poco C65',\n",
              "  'Oppo Reno 10 Pro+',\n",
              "  'Asus ROG Phone 8 Pro'],\n",
              " ['Poco X6 Pro 5G',\n",
              "  'Vivo V30',\n",
              "  'Realme Note 50',\n",
              "  'Huawei Nova Y72',\n",
              "  'Huawei Nova 11',\n",
              "  'Realme C65',\n",
              "  'Realme 12+ 5G',\n",
              "  'Infinix Note 40',\n",
              "  'Infinix Zero 30 4G',\n",
              "  'iPhone 14 Pro'],\n",
              " ['Samsung Galaxy A35',\n",
              "  'iPhone 15 Pro',\n",
              "  'Infinix Hot 40 Pro',\n",
              "  'Samsung Galaxy A25',\n",
              "  'Vivo V30',\n",
              "  'Poco X6 Pro 5G',\n",
              "  'Realme Note 50',\n",
              "  'Huawei Nova Y72',\n",
              "  'Huawei Nova 11',\n",
              "  'Realme C65'],\n",
              " ['Huawei Nova 11',\n",
              "  'Realme C65',\n",
              "  'Poco X6 Pro 5G',\n",
              "  'Huawei Nova Y72',\n",
              "  'Realme 12+ 5G',\n",
              "  'Realme Note 50',\n",
              "  'Vivo V30',\n",
              "  'iPhone 14 Pro',\n",
              "  'iPhone 15',\n",
              "  'Infinix Note 40'],\n",
              " ['Oppo Reno 10 Pro+',\n",
              "  'Asus ROG Phone 8 Pro',\n",
              "  'Redmi 13C',\n",
              "  'Infinix Smart 8',\n",
              "  'iPhone 14',\n",
              "  'Redmi Note 13 5G',\n",
              "  'Redmi 12',\n",
              "  'Oppo Find X7',\n",
              "  'Realme 11 Pro+ 5G',\n",
              "  'Oppo Reno 10'],\n",
              " ['Oppo Reno 10 Pro+',\n",
              "  'Asus ROG Phone 8 Pro',\n",
              "  'Redmi 13C',\n",
              "  'Infinix Smart 8',\n",
              "  'iPhone 14',\n",
              "  'Redmi Note 13 5G',\n",
              "  'Redmi 12',\n",
              "  'Oppo Find X7',\n",
              "  'Realme 11 Pro+ 5G',\n",
              "  'Oppo Reno 10'],\n",
              " ['Oppo Reno 10 Pro+',\n",
              "  'Asus ROG Phone 8 Pro',\n",
              "  'Redmi 13C',\n",
              "  'Infinix Smart 8',\n",
              "  'iPhone 14',\n",
              "  'Redmi Note 13 5G',\n",
              "  'Redmi 12',\n",
              "  'Oppo Find X7',\n",
              "  'Realme 11 Pro+ 5G',\n",
              "  'Oppo Reno 10'],\n",
              " ['Poco X6 Pro 5G',\n",
              "  'Vivo V30',\n",
              "  'Realme Note 50',\n",
              "  'Huawei Nova Y72',\n",
              "  'Huawei Nova 11',\n",
              "  'Realme C65',\n",
              "  'Realme 12+ 5G',\n",
              "  'Infinix Note 40',\n",
              "  'Infinix Zero 30 4G',\n",
              "  'iPhone 14 Pro']]"
            ]
          },
          "metadata": {},
          "execution_count": 106
        }
      ]
    },
    {
      "cell_type": "markdown",
      "source": [
        "Save related phones data into csv file."
      ],
      "metadata": {
        "id": "12ITF96zn32J"
      }
    },
    {
      "cell_type": "code",
      "source": [
        "with open('related_phone.csv', 'w') as file:\n",
        "  csvwriter = csv.writer(file)\n",
        "  csvwriter.writerow(['phone_name', 'related1', 'related2', 'related3', 'related4', 'related5', 'related6', 'related7', 'related8', 'related9', 'related10'])\n",
        "  for i in range(96):\n",
        "    csvwriter.writerow([phone_dict['phone_name'][i], top_distance_name[i][0], top_distance_name[i][1], top_distance_name[i][2], top_distance_name[i][3], top_distance_name[i][4], top_distance_name[i][5], top_distance_name[i][6], top_distance_name[i][7], top_distance_name[i][8], top_distance_name[i][9]])"
      ],
      "metadata": {
        "id": "dOhZAaG9lZt4"
      },
      "execution_count": 126,
      "outputs": []
    }
  ]
}